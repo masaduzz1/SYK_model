{
 "cells": [
  {
   "cell_type": "markdown",
   "id": "75308267-1851-4736-8c02-2d7612f6b8b4",
   "metadata": {},
   "source": [
    "# Vermersch Protocol for computing OTOC at finite temperature\n",
    "\n",
    "See appendix  C of this paper: https://arxiv.org/abs/1807.09087\n",
    "\n",
    "\n",
    "Finite temperature OTOC at inverse temperature $\\beta$\n",
    "\n",
    "$$O_S\\left[\\rho_\\beta\\right](t)=\\operatorname{Tr}\\left(\\rho_\\beta^{1 / 4} W(t) \\rho_\\beta^{1 / 4} V \\rho_\\beta^{1 / 4} W(t) \\rho_\\beta^{1 / 4} V\\right)$$\n",
    "\n",
    "\n",
    "where, $\\rho_\\beta = \\frac{\\exp(-\\beta H)}{\\mathrm{Tr}(\\exp(-\\beta H) )}$ is the density matrix.\n",
    "\n",
    "At small $\\beta$ we can approximate the OTOC \n",
    "\n",
    "$$O_S\\left[\\rho_\\beta\\right](t)=O(t)-\\frac{\\beta}{2 c^{\\prime} \\mathcal{N}_{\\mathcal{H}}} \\tilde{C}(t)$$,\n",
    "\n",
    "where,\n",
    "\n",
    "$$ \\widetilde{C}(t)=\\overline{\\langle W(t)\\rangle_{u, k_0}\\langle V W(t) V\\rangle_{u, k_0}\\langle H\\rangle_{u, k_0}}$$"
   ]
  },
  {
   "cell_type": "code",
   "execution_count": 1,
   "id": "87328bbb-b4bd-4020-b182-d901c9933775",
   "metadata": {},
   "outputs": [],
   "source": [
    "import numpy as np\n",
    "\n",
    "# Importing standard Qiskit libraries\n",
    "from qiskit.providers.aer import QasmSimulator\n",
    "from scipy import linalg as sLA\n",
    "from qiskit import *\n",
    "from qiskit.circuit import Gate\n",
    "from qiskit.quantum_info import Statevector\n",
    "from IPython.core.interactiveshell import InteractiveShell\n",
    "from qiskit import Aer\n",
    "from IPython.display import display, Latex\n",
    "import qiskit.quantum_info as qi\n",
    "from qiskit import QuantumCircuit, transpile\n",
    "from qiskit.circuit import Parameter\n",
    "from qiskit.visualization import plot_histogram\n",
    "import matplotlib.pyplot as plt\n",
    "import pandas as pd\n",
    "from qiskit.providers.fake_provider import FakeMelbourne\n",
    "from qiskit.quantum_info.operators import Operator\n",
    "#from azure.quantum.qiskit import AzureQuantumProvider\n",
    "from qiskit import execute\n",
    "\n",
    "from qiskit.visualization import *\n",
    "from qiskit.tools.visualization import circuit_drawer\n",
    "from qiskit.quantum_info import random_unitary\n",
    "#from bristol.ensembles import Circular\n",
    "from scipy.stats import unitary_group\n",
    "from qiskit import Aer\n",
    "from qiskit_ibm_runtime import Estimator,Sampler, Session, QiskitRuntimeService, Options\n",
    "import ast\n",
    "from qiskit.providers.fake_provider import FakeSherbrooke\n",
    "from scipy.io import mmread\n",
    "InteractiveShell.ast_node_interactivity = \"all\"\n",
    "# Loading your IBM Quantum account(s)\n",
    "#provider = IBMQ.load_account()\n",
    "import datetime\n"
   ]
  },
  {
   "cell_type": "code",
   "execution_count": 2,
   "id": "cfa49378-d114-4200-b786-8408a2811015",
   "metadata": {},
   "outputs": [
    {
     "name": "stdout",
     "output_type": "stream",
     "text": [
      "2024-02-01 23:13:51.954155\n"
     ]
    }
   ],
   "source": [
    "print(datetime.datetime.now())"
   ]
  },
  {
   "cell_type": "code",
   "execution_count": 3,
   "id": "6098eae1-7de9-46d8-8680-5a5f81e9d9ef",
   "metadata": {
    "tags": [
     "parameters"
    ]
   },
   "outputs": [],
   "source": [
    "instance_id=3\n",
    "myseed=233423+instance_id\n",
    "#myseed=233423+1\n",
    "random_run=200\n",
    "delta_t=1.5\n",
    "myshots=20000\n",
    "\n",
    "N=6\n",
    "Q=N//2\n",
    "mmax=2**Q\n",
    "mybeta=0.01\n",
    "\n",
    "\n",
    "Wqubit=1\n",
    "Vqubit=0\n",
    "Jsqr=1"
   ]
  },
  {
   "cell_type": "code",
   "execution_count": 4,
   "id": "418dbfdf-e576-45ae-ae5e-0ee6082a6ee2",
   "metadata": {
    "tags": []
   },
   "outputs": [],
   "source": [
    "\n",
    "\n",
    "n=6 # trotter step\n",
    "t=n*delta_t\n",
    "\n",
    "\n",
    "\n",
    "qi_cir = QuantumCircuit.from_qasm_file('N%d_configs/QC_N%d_%d_dt%0.1f.qasm' %(N,N,instance_id,delta_t) )\n",
    "simulator = Aer.get_backend(\"aer_simulator\")\n",
    "#transpiled_qi_cir=transpile(qi_cir,backend=simulator,optimization_level=2,\n",
    "#                                  basis_gates=['ecr','id','rz','sx','x'],seed_transpiler=12341)\n",
    "\n",
    "\n",
    "\n",
    "tempckt=QuantumCircuit(Q)\n",
    "tempckt=qi_cir.copy()\n",
    "#tempckt.draw()"
   ]
  },
  {
   "cell_type": "code",
   "execution_count": 5,
   "id": "e2d159df-b284-41df-aeb7-468fad5b5ed3",
   "metadata": {
    "tags": []
   },
   "outputs": [],
   "source": [
    "syk_op_array=[]\n",
    "inH = mmread(\"N%d_configs/H_N%d_%d.mtx\" %(N,N,instance_id))\n",
    "syk_op_array=inH\n",
    "syk_op= Operator(np.array(syk_op_array))\n",
    "#array_to_latex(syk_op)"
   ]
  },
  {
   "cell_type": "markdown",
   "id": "6d6a3412-ab85-48d1-b5b9-19824c5140b5",
   "metadata": {},
   "source": [
    "# Structure of batched circuits\n",
    "\n",
    "\n",
    "Higher level--trotter step\n",
    "\n",
    "Mid level -- random unitary introduce\n",
    "\n",
    "lower level -- for each random unitary two circuits to compute $<W>$ and $<V^\\dagger W V>$ respectively"
   ]
  },
  {
   "cell_type": "code",
   "execution_count": 6,
   "id": "c1a7c472-148d-4f5d-9ec9-31beb5c5693e",
   "metadata": {},
   "outputs": [
    {
     "data": {
      "text/plain": [
       "4"
      ]
     },
     "execution_count": 6,
     "metadata": {},
     "output_type": "execute_result"
    }
   ],
   "source": [
    "#B=np.zeros(len(A))\n",
    "def rev_qubit(x,tq):\n",
    "    y=bin(x)[2:].zfill(tq)\n",
    "    y\n",
    "    z=[]\n",
    "    for j in range(len(y)-1,-1,-1):\n",
    "        y[j]\n",
    "        z.append(y[j])\n",
    "\n",
    "    binary_number = int(''.join(z), 2)\n",
    "    return binary_number\n",
    "\n",
    "rev_qubit(2,4)"
   ]
  },
  {
   "cell_type": "code",
   "execution_count": 7,
   "id": "e8f70bad-a62a-4aa1-b34f-124126216357",
   "metadata": {
    "tags": []
   },
   "outputs": [
    {
     "name": "stdout",
     "output_type": "stream",
     "text": [
      "num steps 6\n",
      "seeding done: i value 0\n",
      "seeding done: i value 1\n",
      "seeding done: i value 2\n",
      "seeding done: i value 3\n",
      "seeding done: i value 4\n",
      "seeding done: i value 5\n",
      "seeding done: i value 6\n"
     ]
    }
   ],
   "source": [
    "simulator = Aer.get_backend(\"aer_simulator\")\n",
    "\n",
    "\n",
    "#simulator=FakeSherbrooke()\n",
    "def generate_unitaries(rand_run,myseed):\n",
    "    unitary_ckt_list=[]\n",
    "    \n",
    "    unitary_depth_arr=[]\n",
    "    \n",
    "   \n",
    "    #scipy seeding\n",
    "    np.random.seed(seed=myseed)\n",
    "    \n",
    "    for k in range(rand_run): #rand_run\n",
    "    #    if(k%50==0):\n",
    "    #        print(i,k)\n",
    "\n",
    "        trotter_circuit1 = QuantumCircuit(Q)\n",
    "        local_op=Operator(unitary_group.rvs(2**Q))\n",
    "        trotter_circuit1.append(local_op,list(np.arange(Q)))\n",
    "        #transpiled1=transpile(trotter_circuit1,backend=simulator,optimization_level=3,\n",
    "        #                      basis_gates=['ecr','id','rz','sx','x'])\n",
    "        \n",
    "        #if k%10==0:\n",
    "        #    print(\"k=\",k)\n",
    "        #    print(transpiled1.count_ops())\n",
    "        #    unitary_depth_arr.append( transpiled1.count_ops()['ecr'])\n",
    "\n",
    "        #unitary_ckt_list.append(transpiled1)\n",
    "        \n",
    "        unitary_ckt_list.append(trotter_circuit1.copy())\n",
    "        \n",
    "\n",
    "        \n",
    "    return unitary_ckt_list\n",
    "\n",
    "def run_trotter_circuit_list(num_steps,rand_run,myshots,Wqubit,Vqubit,temp,Ulist):\n",
    "    print(\"num steps\", num_steps)\n",
    "    #bristol CEU generator\n",
    "    #ce=Circular()\n",
    "    \n",
    "            \n",
    "    result=[]\n",
    "    depth_arr=[]\n",
    "    \n",
    "    for i in range(num_steps+1): #num_steps\n",
    "        \n",
    "        print(\"seeding done: i value\", i)\n",
    "        for k in range(rand_run): #rand_run\n",
    "            trotter_circuit1 = QuantumCircuit(Q,1)\n",
    "            trotter_circuit2 = QuantumCircuit(Q,1)\n",
    "            \n",
    "\n",
    "            #trotter_circuit1.x(0)\n",
    "            #trotter_circuit1.x(2)\n",
    "            #trotter_circuit2.x(0)\n",
    "            #trotter_circuit2.x(2)\n",
    "            \n",
    "            \n",
    "            trotter_circuit1.append(Ulist[k],list(np.arange(Q)))\n",
    "            trotter_circuit2.append(Ulist[k],list(np.arange(Q)))\n",
    "            #display(trotter_circuit1.draw())\n",
    "            \n",
    "            trotter_circuit2.z(Vqubit) # V operator insertion at circuit 2\n",
    "\n",
    "            for _ in range(i):\n",
    "                trotter_circuit1.append(temp,list(np.arange(Q)))\n",
    "                trotter_circuit2.append(temp,list(np.arange(Q)))  \n",
    "            \n",
    "            #display(trotter_circuit1.draw())\n",
    "              \n",
    "            trotter_circuit1.measure(Wqubit,0)\n",
    "            trotter_circuit2.measure(Wqubit,0)\n",
    "            #display(trotter_circuit1.draw())\n",
    "            \n",
    "            transpiled1=transpile(trotter_circuit1.copy(),\\\n",
    "                                  backend=simulator,\\\n",
    "                                  optimization_level=2\\\n",
    "                                  #initial_layout=[0,1,2],\\\n",
    "                                 #coupling_map=[[0,1],[1,2],[1,0],[2,1]],\\\n",
    "                                  #basis_gates=['ecr','id','rz','sx','x']\n",
    "                                 )\n",
    "            transpiled2=transpile(trotter_circuit2.copy(),\\\n",
    "                                  backend=simulator,\\\n",
    "                                  optimization_level=2\\\n",
    "                                  #initial_layout=[0,1,2],\\\n",
    "                                 #coupling_map=[[0,1],[1,2],[1,0],[2,1]],\\\n",
    "                                  #basis_gates=['ecr','id','rz','sx','x']\\\n",
    "                                 )\n",
    "            \n",
    "            if k==-1:\n",
    "                print(transpiled1.count_ops())\n",
    "                print(transpiled1.depth())\n",
    "                depth_arr.append( transpiled1.count_ops()['ecr'])\n",
    "            \n",
    "            \n",
    "            #if i==1 and k==0:\n",
    "            #    display(transpiled1.draw())\n",
    "            #    display(transpiled2.draw())\n",
    "            \n",
    "            job = simulator.run(transpiled1.copy(),shots=myshots)\n",
    "            temp_result = job.result()\n",
    "            Wtest=(temp_result.get_counts().get('0',0)-temp_result.get_counts().get('1',0))/myshots\n",
    "            \n",
    "            result.append(temp_result)\n",
    "            job = simulator.run(transpiled2.copy(),shots=myshots)\n",
    "            temp_result = job.result()\n",
    "            result.append(temp_result)\n",
    "            Vtest=(temp_result.get_counts().get('0',0)-temp_result.get_counts().get('1',0))/myshots\n",
    "                    \n",
    "    return result\n",
    "\n",
    "\n",
    "\n",
    "all_result=[]\n",
    "\n",
    "my_unitary_ckt_list=generate_unitaries(random_run,myseed)\n",
    "\n",
    "all_result=run_trotter_circuit_list(n,random_run,myshots,Wqubit,Vqubit,tempckt,my_unitary_ckt_list)    "
   ]
  },
  {
   "cell_type": "code",
   "execution_count": 8,
   "id": "42d4f559-79ba-46d0-9f33-50c3169f59a8",
   "metadata": {
    "tags": []
   },
   "outputs": [],
   "source": [
    "\n",
    "def compute_H(umatrix,syk_op_array):\n",
    "    myzero=np.array(np.zeros(len(umatrix)))\n",
    "    myzero[0]=1\n",
    "    psi= umatrix @ myzero\n",
    "    return np.real( np.dot( np.conj(psi),syk_op_array @ psi) )\n"
   ]
  },
  {
   "cell_type": "code",
   "execution_count": 9,
   "id": "b5ddf734-3f86-468c-9baa-62e0b45af1b9",
   "metadata": {
    "tags": []
   },
   "outputs": [
    {
     "data": {
      "text/latex": [
       "$$\n",
       "\n",
       "\\begin{bmatrix}\n",
       "-0.0471497447 - 0.0828134206 i & -0.0423303995 - 0.0263101661 i & 0.0102608376 + 0.0523089732 i & -0.0085896393 + 0.0207195934 i & -0.0235961709 - 0.0575214991 i & -0.0354239478 - 0.0181420219 i & 0.0174418564 - 0.0324189933 i & 0.0026588425 + 0.0212482326 i  \\\\\n",
       " 0.0028914604 - 0.0244325617 i & 0.0168838776 - 0.0055527057 i & 0.0314649439 + 0.0061940074 i & 0.0224705197 - 0.0406440141 i & -0.016071787 + 0.0265334014 i & 0.0193196993 + 0.0119612538 i & 0.0455467958 - 0.0053234577 i & 0.0069868633 + 0.0062447313 i  \\\\\n",
       " -0.0149104711 + 0.0171120158 i & -0.0278096766 + 0.0784478252 i & -0.0299583674 + 0.0372847996 i & -0.0197046892 - 0.0733449815 i & -0.0011914758 - 0.0097656581 i & 0.0115693302 - 0.0454533078 i & 0.0162065366 - 0.0140565555 i & -0.0416253088 - 0.0152473299 i  \\\\\n",
       " 0.0204962069 + 0.0042927194 i & -0.0493084722 + 0.0102076649 i & -0.0109632073 + 0.0527722247 i & -0.0001305777 - 0.0289446903 i & 0.0984261 + 0.0154552902 i & -0.0262564223 + 0.0957985251 i & -0.0082837891 - 0.0259249418 i & 0.0129342011 + 0.0739063441 i  \\\\\n",
       " -0.0387298191 + 0.0343004854 i & 0.0080218885 - 0.0415251764 i & -0.04468526 - 0.0307911374 i & -0.0991667407 - 0.0135560486 i & -0.0455310417 + 0.0076057381 i & 0.0380965577 + 0.0268870674 i & 0.0728975194 - 0.0047634474 i & 0.0347180955 + 0.0678622292 i  \\\\\n",
       " 0.0203868323 + 0.0117515257 i & 0.0596709842 - 0.0165625946 i & -0.0575315096 + 0.018306365 i & -0.0199630368 - 0.0310377049 i & 0.0319068987 + 0.0576220191 i & 0.0163431415 + 0.0276732203 i & -0.0243546448 + 0.0431195987 i & 0.0042456919 - 0.0546147986 i  \\\\\n",
       " 0.021480428 + 0.0022572384 i & -0.018347262 + 0.0128721464 i & 0.0172779311 - 0.0070426157 i & -0.0192623196 - 0.0204529913 i & 0.0143264228 - 0.0172416462 i & -0.0312964393 - 0.0026302976 i & 0.0136784822 + 0.0238756147 i & 0.0566279523 - 0.0147208513 i  \\\\\n",
       " -0.0391327555 - 0.0557142194 i & -0.0036834176 - 0.0130896206 i & 0.0043961043 - 0.0599930106 i & 0.030299647 + 0.0707349879 i & 0.0509239018 + 0.0405360871 i & 0.0142616954 + 0.0101591284 i & 0.0114849186 + 0.0418373895 i & 0.035889741 + 0.00996947 i  \\\\\n",
       " \\end{bmatrix}\n",
       "$$"
      ],
      "text/plain": [
       "<IPython.core.display.Latex object>"
      ]
     },
     "execution_count": 9,
     "metadata": {},
     "output_type": "execute_result"
    },
    {
     "data": {
      "text/plain": [
       "-0.05297026742587993"
      ]
     },
     "execution_count": 9,
     "metadata": {},
     "output_type": "execute_result"
    }
   ],
   "source": [
    "#syk_op_array\n",
    "testarr1=np.array(Operator(my_unitary_ckt_list[0]).data)\n",
    "array_to_latex(np.dot(syk_op_array,testarr1))\n",
    "\n",
    "compute_H(testarr1 ,syk_op_array)"
   ]
  },
  {
   "cell_type": "markdown",
   "id": "d1cd1393-79ea-4d5d-92db-c56b3287183f",
   "metadata": {},
   "source": [
    "# OTOC from Vermersch protocol"
   ]
  },
  {
   "cell_type": "code",
   "execution_count": 10,
   "id": "2184ed63-ede0-4c95-ac93-53a698b2d9c9",
   "metadata": {},
   "outputs": [],
   "source": [
    "def calculate_otoc(meas0,meas1,force_norm=1):\n",
    "    norm_factor=0\n",
    "    meas0=np.real(meas0)\n",
    "    meas1=np.real(meas1)\n",
    "    myOTOC=0.0\n",
    "    #print(\"set lengthe in calc otoc\", len(meas0))\n",
    "    for i in range(len(meas0)):\n",
    "        myOTOC = myOTOC+ meas0[i]*meas1[i]\n",
    "        norm_factor = norm_factor+ meas0[i]**2\n",
    "    if norm_factor==0:\n",
    "        print(\"**********Norm zero issue*******\")\n",
    "        norm_factor=1e-16\n",
    "    \n",
    "    OTOC_normalized=myOTOC/norm_factor\n",
    "    \n",
    "    if force_norm:\n",
    "        return OTOC_normalized\n",
    "    else:\n",
    "        return myOTOC/len(meas0)\n",
    "\n",
    "\n",
    "def calculate_ctilde(meas0,meas1,meas2,force_norm=1):\n",
    "    norm_factor=0\n",
    "    meas0=np.real(meas0)\n",
    "    meas1=np.real(meas1)\n",
    "    meas2=np.real(meas2)\n",
    "    \n",
    "    myCtilde=0.0\n",
    "    for i in range(len(meas0)):\n",
    "        myCtilde = myCtilde+ meas0[i]*meas1[i]*meas2[i]\n",
    "        norm_factor = norm_factor+ meas0[i]**2\n",
    "    if norm_factor==0:\n",
    "        print(\"**********Norm zero issue*******\")\n",
    "        norm_factor=1e-16\n",
    "    \n",
    "    Ctilde_normalized=myCtilde/norm_factor\n",
    "    \n",
    "    if force_norm:\n",
    "        return Ctilde_normalized\n",
    "    else:\n",
    "        return myCtilde/len(meas0)\n",
    "    \n"
   ]
  },
  {
   "cell_type": "code",
   "execution_count": 11,
   "id": "64f8f163-eb76-45eb-bf9d-86492f459886",
   "metadata": {},
   "outputs": [
    {
     "data": {
      "text/plain": [
       "6"
      ]
     },
     "execution_count": 11,
     "metadata": {},
     "output_type": "execute_result"
    },
    {
     "data": {
      "text/plain": [
       "200"
      ]
     },
     "execution_count": 11,
     "metadata": {},
     "output_type": "execute_result"
    },
    {
     "data": {
      "text/plain": [
       "2400"
      ]
     },
     "execution_count": 11,
     "metadata": {},
     "output_type": "execute_result"
    }
   ],
   "source": [
    "n\n",
    "random_run\n",
    "n*random_run*2"
   ]
  },
  {
   "cell_type": "code",
   "execution_count": 12,
   "id": "17f33afe-6904-4bb4-9839-e0b780989161",
   "metadata": {
    "tags": []
   },
   "outputs": [
    {
     "data": {
      "text/plain": [
       "2800"
      ]
     },
     "execution_count": 12,
     "metadata": {},
     "output_type": "execute_result"
    }
   ],
   "source": [
    "len(all_result)\n",
    "result_arr=np.array([])\n",
    "for result in all_result:\n",
    "    #print(result)\n",
    "    x=result.get_counts() \n",
    "    result_arr=np.append(result_arr,x)\n",
    "    \n",
    "#print(result_arr)\n",
    "#df=pd.DataFrame(result_arr)\n",
    "#df\n",
    "\n",
    "#df.to_csv('trotter_step_1_W_VWV',header=None,index=False)\n",
    "\n",
    "#X=np.array(pd.read_csv('trotter_step_1_W_VWV',header=None,index_col=False))\n",
    "#X=X.reshape(len(X))\n",
    "\n",
    "#for test in X:\n",
    "#    temp_count=ast.literal_eval(test)\n",
    "#    print(temp_count.get('0',0),temp_count.get('1',0))\n",
    "    "
   ]
  },
  {
   "cell_type": "code",
   "execution_count": 13,
   "id": "7dc45183-d36a-4c2e-b069-35fec983234b",
   "metadata": {},
   "outputs": [],
   "source": [
    "\n",
    "\n",
    "def binner(data,block_length):\n",
    "    binned_data=[]\n",
    "\n",
    "    bins=len(data)//block_length\n",
    "\n",
    "    data=data[0:block_length*bins]\n",
    "    data=data.reshape(bins,block_length)\n",
    "\n",
    "    binned_data= np.mean(data, axis=1)\n",
    "\n",
    "    return binned_data\n",
    "\n",
    "def partial_average(blocked_data):\n",
    "    return (np.sum(blocked_data)-blocked_data)/(len(blocked_data)-1)\n",
    "\n",
    "\n",
    "\n",
    "def jack_error(partial_avg_data):\n",
    "    return np.std(partial_avg_data)*np.sqrt(len(partial_avg_data)-1)\n",
    "\n",
    "########################################################\n",
    "\n",
    "\n",
    "def jk_avg(x):\n",
    "    y=partial_average(x)\n",
    "    return np.mean(y),jack_error(y)\n",
    "\n",
    "\n",
    "def jk_arrays(otoc_avg):\n",
    "    jk_alltimes=[]\n",
    "    jkerr_alltimes=[]\n",
    "    for i in range(len(otoc_avg[0])):\n",
    "        x,y=jk_avg(otoc_avg[:,i])\n",
    "        jk_alltimes.append(x)\n",
    "        jkerr_alltimes.append(y)\n",
    "        \n",
    "    return jk_alltimes,jkerr_alltimes\n",
    "\n"
   ]
  },
  {
   "cell_type": "code",
   "execution_count": 14,
   "id": "f6e88f11-0aee-4273-9c9f-abf426185d7a",
   "metadata": {},
   "outputs": [
    {
     "data": {
      "text/plain": [
       "2800"
      ]
     },
     "execution_count": 14,
     "metadata": {},
     "output_type": "execute_result"
    },
    {
     "data": {
      "text/plain": [
       "2400"
      ]
     },
     "execution_count": 14,
     "metadata": {},
     "output_type": "execute_result"
    },
    {
     "data": {
      "text/plain": [
       "6"
      ]
     },
     "execution_count": 14,
     "metadata": {},
     "output_type": "execute_result"
    }
   ],
   "source": [
    "len(all_result)\n",
    "n*random_run*2\n",
    "n"
   ]
  },
  {
   "cell_type": "code",
   "execution_count": 15,
   "id": "1b701bb3-ba94-4a4e-aff2-b14445ba5703",
   "metadata": {},
   "outputs": [
    {
     "data": {
      "text/latex": [
       "$$\n",
       "\n",
       "\\begin{bmatrix}\n",
       "-0.0001343456 & 0.0001975132 & 0.0002641987 & 6.85675 \\cdot 10^{-5} & -0.0001812409 & -0.0002101508 & 4.64084 \\cdot 10^{-5}  \\\\\n",
       " 0.0007641027 & 0.0007442879 & 0.0004054833 & 6.33957 \\cdot 10^{-5} & -7.15668 \\cdot 10^{-5} & -5.59568 \\cdot 10^{-5} & -1.21048 \\cdot 10^{-5}  \\\\\n",
       " 0.0001653091 & 0.0002635575 & 0.0003136405 & 0.0003865451 & 0.0003861775 & 0.0003198779 & 0.0001390879  \\\\\n",
       " 1.25989 \\cdot 10^{-5} & -4.42839 \\cdot 10^{-5} & 3.06382 \\cdot 10^{-5} & 0.0001384992 & 0.0002381505 & 0.0002846581 & 0.0003524506  \\\\\n",
       " \\end{bmatrix}\n",
       "$$"
      ],
      "text/plain": [
       "<IPython.core.display.Latex object>"
      ]
     },
     "execution_count": 15,
     "metadata": {},
     "output_type": "execute_result"
    },
    {
     "data": {
      "text/plain": [
       "[<matplotlib.lines.Line2D at 0x7f254a8cff10>]"
      ]
     },
     "execution_count": 15,
     "metadata": {},
     "output_type": "execute_result"
    },
    {
     "data": {
      "text/plain": [
       "[<matplotlib.lines.Line2D at 0x7f254a825050>]"
      ]
     },
     "execution_count": 15,
     "metadata": {},
     "output_type": "execute_result"
    },
    {
     "data": {
      "text/plain": [
       "[<matplotlib.lines.Line2D at 0x7f254a826a90>]"
      ]
     },
     "execution_count": 15,
     "metadata": {},
     "output_type": "execute_result"
    },
    {
     "data": {
      "text/plain": [
       "[<matplotlib.lines.Line2D at 0x7f254a82c950>]"
      ]
     },
     "execution_count": 15,
     "metadata": {},
     "output_type": "execute_result"
    },
    {
     "data": {
      "text/plain": [
       "<matplotlib.legend.Legend at 0x7f254a82dd50>"
      ]
     },
     "execution_count": 15,
     "metadata": {},
     "output_type": "execute_result"
    },
    {
     "data": {
      "text/plain": [
       "<ErrorbarContainer object of 3 artists>"
      ]
     },
     "execution_count": 15,
     "metadata": {},
     "output_type": "execute_result"
    },
    {
     "data": {
      "text/plain": [
       "array([1.        , 0.88146042, 0.61832848, 0.39474352, 0.28292505,\n",
       "       0.22761564, 0.13263991])"
      ]
     },
     "execution_count": 15,
     "metadata": {},
     "output_type": "execute_result"
    },
    {
     "data": {
      "image/png": "[encoded data removed]",
      "text/plain": [
       "<Figure size 640x480 with 1 Axes>"
      ]
     },
     "metadata": {},
     "output_type": "display_data"
    }
   ],
   "source": [
    "total_set=4\n",
    "times1=delta_t*np.arange(n+1)\n",
    "OTOC=np.zeros((total_set,n+1))\n",
    "Ctilde=np.zeros((total_set,n+1))\n",
    "finite_OTOC=np.zeros((total_set,n+1))\n",
    "\n",
    "\n",
    "Wavg_val=[]\n",
    "Wstd=[]\n",
    "Vavg_val=[]\n",
    "Vstd=[]\n",
    "\n",
    "for i in range(n+1): # \n",
    "        W=np.zeros(random_run)\n",
    "        V=np.zeros(random_run)\n",
    "        myH=np.zeros(random_run)\n",
    "        \n",
    "        for j in range(random_run):\n",
    "            #index=2*i*random_run\n",
    "            index=2*i*random_run\n",
    "            \n",
    "            #print(\"index temp\",index+2*j)\n",
    "            temp_result1=all_result[index+2*j]\n",
    "            temp_result2=all_result[index+2*j+1]       \n",
    "            W[j]=(temp_result1.get_counts().get('0',0)-temp_result1.get_counts().get('1',0))/myshots\n",
    "            V[j]=(temp_result2.get_counts().get('0',0)-temp_result2.get_counts().get('1',0))/myshots   \n",
    "            myH[j]=compute_H(np.array(Operator(my_unitary_ckt_list[j]).data),np.array(Operator(syk_op).data) )\n",
    "            #print(myH[j])\n",
    "        \n",
    "        mydata=np.transpose([W,V,myH])\n",
    "        df_test=pd.DataFrame(mydata)\n",
    "        #df_test.to_csv('benchmarking_localsim_ckt_data_instance_id_%d_randomrun_%d_20000shots' %(instance_id,random_run),sep='\\t',header=False,index=False,mode='w')\n",
    "        df_test.to_csv(\"WVHdata_beta/simulated_protocol%d_WVdata_tn%d_dt%0.1f_random_run%d_shots%d\"\\\n",
    "                       %(instance_id,i,delta_t,random_run,myshots),sep='\\t',header=False,index=False,mode='w')\n",
    "        \n",
    "        #OTOC[i]=calculate_otoc(W,V)\n",
    "        \n",
    "        #print(W)\n",
    "        \n",
    "        #Wavg_val.append(np.mean(W))\n",
    "        #Vavg_val.append(np.mean(V))\n",
    "        #Wstd.append(np.std(W))\n",
    "        #Vstd.append(np.std(V))\n",
    "\n",
    "\n",
    "        blocked_meas2=binner(np.real(W),1)\n",
    "        #partial_avg_blocked_meas2=partial_average(blocked_meas2)\n",
    "        #Wavg_val=np.mean(partial_avg_blocked_meas2)\n",
    "        #Wstd=jack_error(partial_avg_blocked_meas2)\n",
    "\n",
    "        blocked_meas3=binner(np.real(V),1)\n",
    "        #partial_avg_blocked_meas3=partial_average(blocked_meas3)\n",
    "        #Vavg_val=np.mean(partial_avg_blocked_meas3)\n",
    "        #Vstd=jack_error(partial_avg_blocked_meas3)\n",
    "        \n",
    "        blocked_measH=binner(myH,1)\n",
    "        #partial_avg_blocked_measH=partial_average(blocked_measH)\n",
    "        #Havg_val=np.mean(partial_avg_blocked_measH)\n",
    "        #Hstd=jack_error(partial_avg_blocked_measH)\n",
    "\n",
    "\n",
    "        OTOC_t=[]\n",
    "        myset_length=random_run//total_set\n",
    "        \n",
    "        for k in range(total_set):\n",
    "            temp=calculate_otoc(blocked_meas2[k*myset_length:(k+1)*myset_length],blocked_meas3[k*myset_length:(k+1)*myset_length],0)\n",
    "            OTOC_t.append(temp)\n",
    "        \n",
    "        OTOC[:,i]=OTOC_t\n",
    "        #print(i,OTOC[:,i])\n",
    "        \n",
    "        Ctilde_t=[]\n",
    "        \n",
    "        for k in range(total_set):\n",
    "            temp=calculate_ctilde(blocked_meas2[k*myset_length:(k+1)*myset_length],blocked_meas3[k*myset_length:(k+1)*myset_length],\\\n",
    "                                 blocked_measH[k*myset_length:(k+1)*myset_length],0)\n",
    "            Ctilde_t.append(temp)\n",
    "            #print(k,Ctilde_t)\n",
    "        \n",
    "        Ctilde[:,i]=Ctilde_t\n",
    "        #break\n",
    "\n",
    "    \n",
    "        want_dispersion_plot=0\n",
    "        if want_dispersion_plot:\n",
    "            plt.rc('text',usetex=True)\n",
    "            fig, ax = plt.subplots(facecolor='w',figsize=(4,3))\n",
    "            ax.tick_params(axis='both', which='major', labelsize=10)\n",
    "            plt.scatter(W,V,marker='o',c='k',s=10,label=r'$t$=%0.2f' %(i*delta_t))\n",
    "            #plt.plot(W/V,marker='o',c='k',label=r'$t$=%0.2f' %(i*delta_t))\n",
    "            plt.legend(loc='best',frameon=False,fontsize=10)\n",
    "            #plt.ylabel(r'$\\langle W \\rangle /\\langle V^\\dagger W(t) V \\rangle $',fontsize=10)\n",
    "            #plt.ylabel(r'$\\langle n(t) \\rangle $',fontsize=50)\n",
    "            #plt.xlabel(r'$\\langle W(t) \\rangle$',fontsize=10)\n",
    "            #plt.savefig(r'local_protocol/W%d_V%d_%0.2f.png' %(Wqubit,Vqubit,i*delta_t),bbox_inches='tight')\n",
    "            #plt.savefig(r'ckt_instance_data7/%d_W_%d_set%d_no_unitaries_nonoise.png' %(random_run,i,0),bbox_inches='tight')\n",
    "            plt.show()\n",
    "            plt.close()\n",
    "            \n",
    "\n",
    "            \n",
    "jk_100=[]\n",
    "jkerr_100=[]\n",
    "\n",
    "    \n",
    "if total_set!=1:\n",
    "    for i in range(len(finite_OTOC)):\n",
    "        for j in range(len(finite_OTOC[0])):\n",
    "            finite_OTOC[i][j]=OTOC[i][j]- 0.5*mybeta*(mmax+1)*(mmax+2) * Ctilde[i][j]\n",
    "            \n",
    "    array_to_latex(finite_OTOC-OTOC)\n",
    "    \n",
    "                                           \n",
    "    jk_100,jkerr_100=jk_arrays(finite_OTOC)   \n",
    "    \n",
    "    \n",
    "    for i in range(len(finite_OTOC)):\n",
    "        plt.plot(times1,finite_OTOC[i,:],ls='--',mfc='None',lw='0.1',label=r'%d'%i) \n",
    "\n",
    "else:\n",
    "    for i in range(len(finite_OTOC)):\n",
    "        for j in range(len(finite_OTOC[0])):\n",
    "            finite_OTOC[i][j]=OTOC[i][j]- 0.5*mybeta*(mmax+1)*(mmax+2) * Ctilde[i][j]\n",
    "            \n",
    "    jk_100=finite_OTOC[0,:]\n",
    "    jkerr_100=np.zeros(len(jk_100))\n",
    "    print(\"*********\",jk_100)\n",
    "\n",
    "\n",
    "plt.legend()\n",
    "#plt.plot(times2,OTOC_ED,'ok',ms='5') \n",
    "\n",
    "\n",
    "                                           \n",
    "plt.errorbar(times1,jk_100/jk_100[0],jkerr_100,fmt='s',c='r',capsize=5)\n",
    "\n",
    "jk_100/jk_100[0]"
   ]
  },
  {
   "cell_type": "code",
   "execution_count": 16,
   "id": "7c94f605-f651-4790-af06-7004a9ab7d32",
   "metadata": {},
   "outputs": [
    {
     "ename": "TypeError",
     "evalue": "'module' object is not callable",
     "output_type": "error",
     "traceback": [
      "\u001b[0;31m---------------------------------------------------------------------------\u001b[0m",
      "\u001b[0;31mTypeError\u001b[0m                                 Traceback (most recent call last)",
      "Cell \u001b[0;32mIn[16], line 1\u001b[0m\n\u001b[0;32m----> 1\u001b[0m array([\u001b[38;5;241m0.99989768\u001b[39m, \u001b[38;5;241m0.8625991\u001b[39m , \u001b[38;5;241m0.54230866\u001b[39m, \u001b[38;5;241m0.23430452\u001b[39m, \u001b[38;5;241m0.07609768\u001b[39m,\n\u001b[1;32m      2\u001b[0m        \u001b[38;5;241m0.05607585\u001b[39m, \u001b[38;5;241m0.06535623\u001b[39m])\n\u001b[1;32m      3\u001b[0m array([\u001b[38;5;241m1.\u001b[39m        , \u001b[38;5;241m0.88091332\u001b[39m, \u001b[38;5;241m0.60994375\u001b[39m, \u001b[38;5;241m0.3591749\u001b[39m , \u001b[38;5;241m0.22052982\u001b[39m,\n\u001b[1;32m      4\u001b[0m        \u001b[38;5;241m0.16048457\u001b[39m, \u001b[38;5;241m0.09649512\u001b[39m])\n",
      "\u001b[0;31mTypeError\u001b[0m: 'module' object is not callable"
     ]
    }
   ],
   "source": [
    "array([1.        , 0.88146042, 0.61832848, 0.39474352, 0.28292505,\n",
    "       0.22761564, 0.13263991])\n",
    "\n",
    "array([0.99999863, 0.86267583, 0.54237354, 0.23447817, 0.07651373,\n",
    "       0.05672934, 0.06604644])"
   ]
  },
  {
   "cell_type": "code",
   "execution_count": null,
   "id": "d2f4c8c2-6b2f-4216-9883-a3562ed95ecb",
   "metadata": {},
   "outputs": [],
   "source": [
    "instance_id\n",
    "#EDval=np.array([0.05409897, 0.04838817, 0.03864442, 0.02730182, 0.01710506,\n",
    "#       0.01032511, 0.0081451 , 0.01039859, 0.01572249, 0.02205179,\n",
    "#       0.02727905]) # beta 0.4\n",
    "\n",
    "EDval=np.array([0.99743554, 0.86050466, 0.54088264, 0.23301112, 0.07407857,\n",
    "       0.05308351, 0.06219263])\n",
    "EDval\n",
    "jk_100\n",
    "\n",
    "EDval[0:7]/jk_100\n",
    "1/8\n"
   ]
  },
  {
   "cell_type": "code",
   "execution_count": null,
   "id": "8accf9dc-7235-46b0-9de0-cb06ebfbd851",
   "metadata": {},
   "outputs": [],
   "source": [
    "plt.rc('text',usetex=True)\n",
    "fig, ax = plt.subplots(facecolor='w',figsize=(6,4))\n",
    "ax.tick_params(axis='both', which='major', labelsize=20)\n",
    "ax.minorticks_on()\n",
    "\n",
    "plt.errorbar(np.array(times1),1-np.array(jk_100),jkerr_100,marker='o',c='k',ls='--',label='%d'%instance_id) \n",
    "plt.xlabel(r'time, $t$',fontsize=20)\n",
    "plt.ylabel(r'$F_{%d%d}(t)$'%(Wqubit,Vqubit),fontsize=20)\n",
    "plt.legend(loc='best',fontsize=15,frameon=False)\n",
    "plt.title(r'$J^2$=%0.1f, $N_U$=%d'%(Jsqr, random_run))\n",
    "#plt.savefig(r'ED_data/simulated_protocol_%d_dt%0.1f_random_run%d_shots%d.png' %(instance_id,delta_t,random_run,myshots),bbox_inches='tight')"
   ]
  },
  {
   "cell_type": "code",
   "execution_count": null,
   "id": "4fd73724-1bcb-4708-8f8f-2359fb4f5285",
   "metadata": {},
   "outputs": [],
   "source": [
    "sim_prot_val=1-np.array(jk_100)\n",
    "mydata=np.transpose([times1,sim_prot_val,jkerr_100])\n",
    "df_test=pd.DataFrame(mydata)\n",
    "#df_test.to_csv('benchmarking_localsim_ckt_data_instance_id_%d_randomrun_%d_20000shots' %(instance_id,random_run),sep='\\t',header=False,index=False,mode='w')\n",
    "#df_test.to_csv(\"ED_data/simulated_protocol_%d_dt%0.1f_random_run%d_shots%d\" %(instance_id,delta_t,random_run,myshots),sep='\\t',header=False,index=False,mode='w')"
   ]
  },
  {
   "cell_type": "code",
   "execution_count": null,
   "id": "11e3662d-b9f0-4cb2-9729-cfb5547842ff",
   "metadata": {},
   "outputs": [],
   "source": [
    "print(datetime.datetime.now())"
   ]
  },
  {
   "cell_type": "code",
   "execution_count": null,
   "id": "33c4cdb4-9023-4aba-822b-a7cf5cdfd0f8",
   "metadata": {},
   "outputs": [],
   "source": [
    "all_instance_plot=0\n",
    "if all_instance_plot:\n",
    "    instance_id_array=np.arange(1,11)\n",
    "\n",
    "    otoc_arr=[]\n",
    "    otocerr_arr=[]\n",
    "\n",
    "    for instance_id in instance_id_array:\n",
    "        filename='ckt_instance_data_N8_1/ckt_data_instance_id_%d'%instance_id\n",
    "        Xtemp=np.array(pd.read_csv(filename,sep='\\t',header=None,index_col=None)   ) \n",
    "        time=Xtemp[:,0]\n",
    "        #print(Xtemp[:,0])\n",
    "        #print(Xtemp[:,1])\n",
    "        \n",
    "        \n",
    "        otoc_arr.append(Xtemp[:,1])\n",
    "        otocerr_arr.append(Xtemp[:,2])\n",
    "        plt.errorbar(time,Xtemp[:,1],Xtemp[:,2],label=r'%d'%instance_id)\n",
    "\n",
    "    otoc_arr2=np.array(otoc_arr)\n",
    "    otoc_avg=np.mean(otoc_arr2,0)\n",
    "    \n",
    "    otocerr_arr2=np.array(otocerr_arr)\n",
    "    otocerr_avg=np.mean(otocerr_arr2,0)\n",
    "    \n",
    "    plt.errorbar(time,otoc_avg,otocerr_avg,marker='x',c='r',ms=20)\n",
    "    #plt.savefig(r'ckt_instance_data_N8_1/all_instance%d.png' %len(instance_id_array),bbox_inches='tight')\n",
    "    plt.legend(loc='best',fontsize=15,frameon=False)\n",
    "    \n",
    "    plt.rc('text',usetex=True)\n",
    "    fig, ax = plt.subplots(facecolor='w',figsize=(6,4))\n",
    "    ax.tick_params(axis='both', which='major', labelsize=20)\n",
    "    ax.minorticks_on()\n",
    "    plt.errorbar(time,otoc_avg,otocerr_avg,marker='v',c='k',ms=5,capsize=5)\n",
    "    plt.xlabel(r'time, $t$',fontsize=20)\n",
    "    plt.ylabel(r'$F_{%d%d}(t)$'%(Wqubit,Vqubit),fontsize=20)\n",
    "    plt.legend(loc='best',fontsize=15,frameon=False)\n",
    "    plt.title(r'$J^2$=%0.1f, $N_U$=%d'%(Jsqr, random_run))\n",
    "    #plt.savefig(r'ckt_instance_data_N8_1/total_instance%d.png' %len(instance_id_array),bbox_inches='tight')\n"
   ]
  }
 ],
 "metadata": {
  "kernelspec": {
   "display_name": "Python 3 (ipykernel)",
   "language": "python",
   "name": "python3"
  },
  "language_info": {
   "codemirror_mode": {
    "name": "ipython",
    "version": 3
   },
   "file_extension": ".py",
   "mimetype": "text/x-python",
   "name": "python",
   "nbconvert_exporter": "python",
   "pygments_lexer": "ipython3",
   "version": "3.11.5"
  },
  "widgets": {
   "application/vnd.jupyter.widget-state+json": {
    "state": {},
    "version_major": 2,
    "version_minor": 0
   }
  }
 },
 "nbformat": 4,
 "nbformat_minor": 5
}
