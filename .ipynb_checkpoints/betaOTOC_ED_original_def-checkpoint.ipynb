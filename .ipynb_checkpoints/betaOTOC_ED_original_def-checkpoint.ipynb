{
 "cells": [
  {
   "cell_type": "markdown",
   "metadata": {},
   "source": [
    "# OTOC definition with Operators\n",
    "\n",
    "We use a symmetrized version for the finite temperature OTOC calculation\n",
    "$$O_S\\left[\\rho_\\beta\\right](t)=\\operatorname{Tr}\\left(\\rho_\\beta^{1 / 4} W(t) \\rho_\\beta^{1 / 4} V \\rho_\\beta^{1 / 4} W(t) \\rho_\\beta^{1 / 4} V\\right)$$\n",
    "where, $\\rho_\\beta=\\frac{\\exp(-\\beta H)}{\\mathrm{Tr}(\\exp(-\\beta H))}$"
   ]
  },
  {
   "cell_type": "code",
   "execution_count": 1,
   "metadata": {},
   "outputs": [],
   "source": [
    "#import usual libraries\n",
    "import numpy as np\n",
    "import matplotlib as mpl\n",
    "import matplotlib.pyplot as plt\n",
    "from scipy import sparse\n",
    "from numpy import linalg as LA\n",
    "from scipy import linalg as sLA\n",
    "from scipy.sparse.linalg import eigs\n",
    "from IPython.display import display, Latex\n",
    "from decimal import *\n",
    "import pandas as pd\n",
    "import math\n",
    "from qiskit.visualization import plot_histogram\n",
    "from qiskit.visualization import *\n",
    "from qiskit.circuit.library import iSwapGate\n",
    "from scipy.linalg import expm\n",
    "from scipy.stats import unitary_group\n",
    "from IPython.core.interactiveshell import InteractiveShell\n",
    "from utils_operators import *\n",
    "from utils_observables import *\n",
    "#from bristol.ensembles import Circular\n",
    "from itertools import cycle\n",
    "from functools import reduce\n",
    "import sys\n",
    "from scipy.io import mmread\n",
    "from qiskit.visualization import array_to_latex\n",
    "\n",
    "mycolor=cycle('krcbm')\n",
    "mymarker=cycle('oxs^v')\n",
    "\n",
    "InteractiveShell.ast_node_interactivity = \"all\"\n",
    "getcontext().prec = 30\n"
   ]
  },
  {
   "cell_type": "markdown",
   "metadata": {},
   "source": [
    "# Main Body of the code"
   ]
  },
  {
   "cell_type": "code",
   "execution_count": 2,
   "metadata": {
    "tags": [
     "parameters"
    ]
   },
   "outputs": [
    {
     "data": {
      "text/plain": [
       "array([0. , 0.8, 1.6, 2.4, 3.2, 4. , 4.8, 5.6, 6.4, 7.2, 8. ])"
      ]
     },
     "execution_count": 2,
     "metadata": {},
     "output_type": "execute_result"
    },
    {
     "name": "stdout",
     "output_type": "stream",
     "text": [
      "*************************************\n",
      "check Pauli (sigma) factors in Hamiltonian, and sigma_0 and V_op variable in main code\n"
     ]
    }
   ],
   "source": [
    "N=6\n",
    "instance_id=3\n",
    "\n",
    "\n",
    "delt=0.3\n",
    "nstep=10\n",
    "\n",
    "nq=N//2\n",
    "mmax=2**nq\n",
    "Jsqr=1\n",
    "mybeta=0.8\n",
    "\n",
    "totalT=delt*nstep\n",
    "mytimes1=np.arange(0,totalT+delt/2,delt)\n",
    "mytimes1\n",
    "Wqubit=1\n",
    "Vqubit=0\n",
    "\n",
    "Wsp=2 # what kind of operator\n",
    "Vsp=2\n",
    "\n",
    "write_eigenstate_file=0\n",
    "print(\"*************************************\")\n",
    "print(\"check Pauli (sigma) factors in Hamiltonian, and sigma_0 and V_op variable in main code\")"
   ]
  },
  {
   "cell_type": "markdown",
   "metadata": {},
   "source": [
    "# Read SYK Hamiltonian from file"
   ]
  },
  {
   "cell_type": "code",
   "execution_count": 3,
   "metadata": {},
   "outputs": [],
   "source": [
    "syk_op = mmread(\"N%d_configs/H_N%d_%d.mtx\" %(N,N,instance_id))\n",
    "syk_op=np.array(syk_op)"
   ]
  },
  {
   "cell_type": "markdown",
   "metadata": {},
   "source": [
    "# Exact Diagonalization"
   ]
  },
  {
   "cell_type": "code",
   "execution_count": 4,
   "metadata": {
    "tags": []
   },
   "outputs": [
    {
     "data": {
      "text/plain": [
       "1.0"
      ]
     },
     "execution_count": 4,
     "metadata": {},
     "output_type": "execute_result"
    }
   ],
   "source": [
    "mybeta"
   ]
  },
  {
   "cell_type": "code",
   "execution_count": 5,
   "metadata": {},
   "outputs": [
    {
     "data": {
      "text/plain": [
       "array([0.98984102, 0.94947384, 0.83656267, 0.67349445, 0.49095376,\n",
       "       0.32006212, 0.1848527 , 0.09720108, 0.0555068 , 0.04722329,\n",
       "       0.05416058])"
      ]
     },
     "execution_count": 5,
     "metadata": {},
     "output_type": "execute_result"
    },
    {
     "data": {
      "text/plain": [
       "[<matplotlib.lines.Line2D at 0x7f6cc4b5e310>]"
      ]
     },
     "execution_count": 5,
     "metadata": {},
     "output_type": "execute_result"
    },
    {
     "data": {
      "text/plain": [
       "<matplotlib.legend.Legend at 0x7f6cc4b186d0>"
      ]
     },
     "execution_count": 5,
     "metadata": {},
     "output_type": "execute_result"
    },
    {
     "data": {
      "text/plain": [
       "Text(0, 0.5, '$ O(t) $')"
      ]
     },
     "execution_count": 5,
     "metadata": {},
     "output_type": "execute_result"
    },
    {
     "data": {
      "text/plain": [
       "Text(0.5, 0, '$t$')"
      ]
     },
     "execution_count": 5,
     "metadata": {},
     "output_type": "execute_result"
    },
    {
     "data": {
      "image/png": "[encoded data removed]",
      "text/plain": [
       "<Figure size 640x480 with 1 Axes>"
      ]
     },
     "metadata": {},
     "output_type": "display_data"
    }
   ],
   "source": [
    "\n",
    "exact_nstep=int(1*nstep)   # extraFactor*nstep #2000\n",
    "exact_delt=totalT/exact_nstep  #1000/2000=0.5  #0.5*2000=1000\n",
    "\n",
    "rho_beta=density_matrix(syk_op,mybeta)\n",
    "#rho_beta=(np.eye(mmax)-mybeta*syk_op)/((np.eye(mmax)-mybeta*syk_op).trace())\n",
    "#print(\"********\",np.real(rho_beta.trace()), np.real(np.trace(rho_beta)) )\n",
    "#np.allclose(rho_beta,sLA.expm(-mybeta*syk_op))\n",
    "rho_beta2= sLA.sqrtm(rho_beta) \n",
    "rho_beta4= sLA.sqrtm(rho_beta2) \n",
    "\n",
    "\n",
    "times1=np.zeros(exact_nstep+1)\n",
    "OTOC_t=np.zeros(exact_nstep+1)\n",
    "\n",
    "otoc_syk=np.zeros(len(times1))\n",
    "\n",
    "for nst in range(exact_nstep+1):\n",
    "    #print(nst)\n",
    "\n",
    "    tt=nst*exact_delt\n",
    "    #print(tt)\n",
    "    times1[nst]=tt\n",
    "    W= sigma_creator(nq,Wqubit,Wsp) # W operator in OTOC\n",
    "    V=sigma_creator(nq,Vqubit,Vsp)\n",
    "    \n",
    "    \n",
    "    otoc_syk[nst]=otoc(rho_beta4,tt,syk_op,W,V)\n",
    "\n",
    "\n",
    "\n",
    "otoc_syk\n",
    "\n",
    "plt.plot(times1,otoc_syk,marker=next(mymarker),ls='--',label=r'%d' %instance_id)\n",
    "plt.legend(loc='best',frameon=False,fontsize=20)\n",
    "plt.ylabel(r'$ O(t) $',fontsize=20)\n",
    "plt.xlabel(r'$t$',fontsize=20)\n",
    "plt.grid()\n",
    "#plt.savefig(r'ED_data/all_ED_N6.png',bbox_inches='tight')\n",
    "plt.show()\n",
    "plt.close()\n",
    "    \n",
    "\n"
   ]
  },
  {
   "cell_type": "code",
   "execution_count": 6,
   "metadata": {},
   "outputs": [
    {
     "data": {
      "text/plain": [
       "array([0.98984102, 0.94947384, 0.83656267, 0.67349445, 0.49095376,\n",
       "       0.32006212, 0.1848527 , 0.09720108, 0.0555068 , 0.04722329,\n",
       "       0.05416058])"
      ]
     },
     "execution_count": 6,
     "metadata": {},
     "output_type": "execute_result"
    }
   ],
   "source": [
    "otoc_syk"
   ]
  },
  {
   "cell_type": "code",
   "execution_count": 7,
   "metadata": {},
   "outputs": [
    {
     "name": "stdout",
     "output_type": "stream",
     "text": [
      "writing data at beta  1.0\n"
     ]
    }
   ],
   "source": [
    "print(\"writing data at beta \", mybeta)\n",
    "mydata=np.transpose([times1,otoc_syk])\n",
    "df=pd.DataFrame(mydata)\n",
    "df.to_csv('ED_id%d_beta%0.1f_dt%0.1f'%(instance_id,mybeta,delt),sep='\\t',header=None,index=False,mode='w')"
   ]
  },
  {
   "cell_type": "markdown",
   "metadata": {},
   "source": [
    "# Trotter"
   ]
  },
  {
   "cell_type": "code",
   "execution_count": 8,
   "metadata": {},
   "outputs": [],
   "source": [
    "\n",
    "\n",
    "def pauli_string_to_array(pauli_string):\n",
    "    pauli_mapping = {\n",
    "        'I': np.eye(2),  # Identity matrix\n",
    "        'X': sigX(),  # Pauli-X matrix\n",
    "        'Y': sigY(),  # Pauli-Y matrix\n",
    "        'Z': sigZ()  # Pauli-Z matrix\n",
    "    }\n",
    "\n",
    "\n",
    "    # Iterate through the characters in the Pauli string and multiply corresponding matrices\n",
    "    for i,char in enumerate(pauli_string):\n",
    "        pauli_matrix = pauli_mapping.get(char)\n",
    "        if i==0:\n",
    "            pauli_array=pauli_matrix\n",
    "        else:\n",
    "            # Multiply the current array with the Pauli matrix using numpy.dot\n",
    "            pauli_array = np.kron(pauli_array,pauli_matrix)\n",
    "\n",
    "    # Now, pauli_array contains the matrix representation of the Pauli string\n",
    "    return pauli_array\n",
    "\n",
    "#np.allclose( pauli_string_to_array('ZYX'), np.kron(np.kron(sigZ(),sigY()), sigX())  )\n",
    "  "
   ]
  },
  {
   "cell_type": "code",
   "execution_count": 9,
   "metadata": {},
   "outputs": [
    {
     "data": {
      "text/plain": [
       "(5, 8, 8)"
      ]
     },
     "execution_count": 9,
     "metadata": {},
     "output_type": "execute_result"
    },
    {
     "data": {
      "text/plain": [
       "(5, 8, 8)"
      ]
     },
     "execution_count": 9,
     "metadata": {},
     "output_type": "execute_result"
    },
    {
     "data": {
      "text/plain": [
       "(5, 8, 8)"
      ]
     },
     "execution_count": 9,
     "metadata": {},
     "output_type": "execute_result"
    },
    {
     "data": {
      "text/plain": [
       "[<matplotlib.lines.Line2D at 0x7f6cc4bd1510>]"
      ]
     },
     "execution_count": 9,
     "metadata": {},
     "output_type": "execute_result"
    },
    {
     "data": {
      "text/plain": [
       "<matplotlib.legend.Legend at 0x7f6cc4bf68d0>"
      ]
     },
     "execution_count": 9,
     "metadata": {},
     "output_type": "execute_result"
    },
    {
     "data": {
      "text/plain": [
       "Text(0, 0.5, '$ O(t) $')"
      ]
     },
     "execution_count": 9,
     "metadata": {},
     "output_type": "execute_result"
    },
    {
     "data": {
      "text/plain": [
       "Text(0.5, 0, '$t$')"
      ]
     },
     "execution_count": 9,
     "metadata": {},
     "output_type": "execute_result"
    },
    {
     "data": {
      "image/png": "[encoded data removed]",
      "text/plain": [
       "<Figure size 600x400 with 1 Axes>"
      ]
     },
     "metadata": {},
     "output_type": "display_data"
    }
   ],
   "source": [
    "#exp()Wexp()Vexp()Wexp()V\n",
    "\n",
    "want_trotterized=1\n",
    "\n",
    "\n",
    "if want_trotterized:\n",
    "    \n",
    "    otoc_trotterval_instancearr=[]\n",
    "    \n",
    "    plt.rc('text',usetex=True)\n",
    "    fig, ax = plt.subplots(facecolor='w',figsize=(6,4))\n",
    "    ax.tick_params(axis='both', which='major', labelsize=20)\n",
    "    \n",
    "    \n",
    "    \n",
    "    ham_filename='N6_configs/ham_paulis_N6_%d.txt' %instance_id\n",
    "\n",
    "    # commutating list and noncommutating index\n",
    "    X=np.array(pd.read_csv(ham_filename,sep=',',index_col=None,header=None))\n",
    "\n",
    "    commuting_list=np.array( [[0,10,13],[1,7,11],[2,5,9],[3,8,14],[4,12,6]] )\n",
    "\n",
    "    #for i in range(len(commuting_list)):\n",
    "    #    print(X[commuting_list[i,0],0],X[commuting_list[i,1],0],X[commuting_list[i,2],0]  )\n",
    "\n",
    "\n",
    "\n",
    "    non_commutating_array=[]\n",
    "\n",
    "    for i in range(len(commuting_list)):\n",
    "        non_commutating_array.append( X[commuting_list[i][0],1]*pauli_string_to_array(X[commuting_list[i][0],0] )\\\n",
    "                                    +X[commuting_list[i][1],1]*pauli_string_to_array(X[commuting_list[i][1],0] )\\\n",
    "                                    +X[commuting_list[i][2],1]*pauli_string_to_array(X[commuting_list[i][2],0] )) \n",
    "    non_commutating_array=np.array(non_commutating_array)\n",
    "\n",
    "    non_commutating_array.shape\n",
    "\n",
    "\n",
    "\n",
    "\n",
    "    non_commutating_exponentiated=[]\n",
    "\n",
    "\n",
    "    for i in range(len(non_commutating_array)):\n",
    "        non_commutating_exponentiated.append(sLA.expm(-1.0j*delt*non_commutating_array[i]) )\n",
    "\n",
    "    non_commutating_exponentiated=np.array(non_commutating_exponentiated)\n",
    "    non_commutating_exponentiated.shape\n",
    "\n",
    "    mytrotterized_H=np.eye(mmax)\n",
    "    for i in range(len(non_commutating_exponentiated)):\n",
    "        mytrotterized_H= mytrotterized_H @ non_commutating_exponentiated[i,:] \n",
    "\n",
    "\n",
    "    non_commutating_exponentiated2=[]\n",
    "\n",
    "\n",
    "    for i in range(len(non_commutating_array)):\n",
    "        non_commutating_exponentiated2.append(sLA.expm(1.0j*delt*non_commutating_array[i]) )\n",
    "\n",
    "    non_commutating_exponentiated2=np.array(non_commutating_exponentiated2)\n",
    "    non_commutating_exponentiated2.shape\n",
    "    mytrotterized_H2=np.eye(mmax)\n",
    "    for i in range(len(non_commutating_exponentiated2)):\n",
    "        mytrotterized_H2= mytrotterized_H2 @ non_commutating_exponentiated2[i,:]\n",
    "\n",
    "    #######################################################################\n",
    "    #nstep=8\n",
    "    #Wqubit=3\n",
    "    #Vqubit=1\n",
    "\n",
    "    rho_beta=density_matrix(syk_op,mybeta)\n",
    "    #rho_beta=(np.eye(mmax)-mybeta*syk_op)/((np.eye(mmax)-mybeta*syk_op).trace())\n",
    "    #print(\"********\",np.real(rho_beta.trace()), np.real(np.trace(rho_beta)) )\n",
    "    #np.allclose(rho_beta,sLA.expm(-mybeta*syk_op))\n",
    "    rho_beta2= sLA.sqrtm(rho_beta) \n",
    "    rho_beta4= sLA.sqrtm(rho_beta2) \n",
    "\n",
    "\n",
    "    otoc_trotterval=[]\n",
    "    otoc_trotterval.append(1)\n",
    "\n",
    "    for i in range(1,nstep+1):\n",
    "        P=mytrotterized_H2  # 1jdtH\n",
    "        Q=mytrotterized_H #-1jdtH\n",
    "        for j in range(2,i+1):\n",
    "            P=P @ mytrotterized_H2\n",
    "            Q=Q @ mytrotterized_H\n",
    "        #Wt= P @ (sigma_creator(nq,Wqubit,2) @ Q)\n",
    "\n",
    "\n",
    "\n",
    "        Wt=P  @ (sigma_creator(nq,Wqubit,2) @ Q)\n",
    "\n",
    "\n",
    "\n",
    "        Vop=sigma_creator(nq,Vqubit,2)\n",
    "\n",
    "        mytempop= (rho_beta4 @ Wt @ rho_beta4 @ Vop) @ (rho_beta4 @ Wt @ rho_beta4 @ Vop)\n",
    "\n",
    "        \n",
    "        mytempotoc=np.real(np.trace(mytempop))\n",
    "        #print(np.real(np.trace(mytempop)),np.real(np.trace(mytempop2)))\n",
    "\n",
    "        otoc_trotterval.append(mytempotoc)\n",
    "\n",
    "\n",
    "\n",
    "\n",
    "    otoc_trotterval= np.real(otoc_trotterval) \n",
    "\n",
    "    #plt.plot(times1,np.real(meas0),c='b',label='ED')\n",
    "    plt.plot(times1,otoc_trotterval,marker=next(mymarker),ls='--',label=r'%d' %instance_id) \n",
    "    plt.legend(loc='best',frameon=False,fontsize=20)\n",
    "    plt.ylabel(r'$ O(t) $',fontsize=20)\n",
    "    plt.xlabel(r'$t$',fontsize=20)\n",
    "    plt.grid()\n",
    "    #plt.savefig(r'ED_data/all_trotter_N6.png',bbox_inches='tight')\n",
    "    plt.show()\n",
    "    plt.close()"
   ]
  },
  {
   "cell_type": "code",
   "execution_count": 10,
   "metadata": {},
   "outputs": [
    {
     "data": {
      "text/plain": [
       "[<matplotlib.lines.Line2D at 0x7f6cc46a2b10>]"
      ]
     },
     "execution_count": 10,
     "metadata": {},
     "output_type": "execute_result"
    },
    {
     "data": {
      "text/plain": [
       "[<matplotlib.lines.Line2D at 0x7f6cc44c3e50>]"
      ]
     },
     "execution_count": 10,
     "metadata": {},
     "output_type": "execute_result"
    },
    {
     "data": {
      "text/plain": [
       "<matplotlib.legend.Legend at 0x7f6cc468a3d0>"
      ]
     },
     "execution_count": 10,
     "metadata": {},
     "output_type": "execute_result"
    },
    {
     "data": {
      "text/plain": [
       "Text(0, 0.5, '$ O(t) $')"
      ]
     },
     "execution_count": 10,
     "metadata": {},
     "output_type": "execute_result"
    },
    {
     "data": {
      "text/plain": [
       "Text(0.5, 0, '$t$')"
      ]
     },
     "execution_count": 10,
     "metadata": {},
     "output_type": "execute_result"
    },
    {
     "data": {
      "image/png": "[encoded data removed]",
      "text/plain": [
       "<Figure size 600x400 with 1 Axes>"
      ]
     },
     "metadata": {},
     "output_type": "display_data"
    }
   ],
   "source": [
    "comparison_ED_trotter=1\n",
    "if comparison_ED_trotter:\n",
    "    plt.rc('text',usetex=True)\n",
    "    fig, ax = plt.subplots(facecolor='w',figsize=(6,4))\n",
    "    ax.tick_params(axis='both', which='major', labelsize=20)\n",
    "    plt.plot(times1,otoc_syk,marker='^',ms=10,c='b',label=r'ED')\n",
    "    plt.plot(times1,otoc_trotterval,'or',ms=10,mfc='None',ls='-',label=r'trotter') \n",
    "    plt.legend()\n",
    "    plt.ylabel(r'$ O(t) $',fontsize=20)\n",
    "    plt.xlabel(r'$t$',fontsize=20)\n",
    "    #plt.savefig(r'delt_%d' % delt,bbox_inches='tight')"
   ]
  },
  {
   "cell_type": "code",
   "execution_count": 11,
   "metadata": {},
   "outputs": [
    {
     "ename": "NameError",
     "evalue": "name 'trotter_val' is not defined",
     "output_type": "error",
     "traceback": [
      "\u001b[0;31m---------------------------------------------------------------------------\u001b[0m",
      "\u001b[0;31mNameError\u001b[0m                                 Traceback (most recent call last)",
      "Cell \u001b[0;32mIn[11], line 3\u001b[0m\n\u001b[1;32m      1\u001b[0m write_trotter_data\u001b[38;5;241m=\u001b[39m\u001b[38;5;241m1\u001b[39m\n\u001b[1;32m      2\u001b[0m \u001b[38;5;28;01mif\u001b[39;00m write_trotter_data:\n\u001b[0;32m----> 3\u001b[0m     mydata\u001b[38;5;241m=\u001b[39mnp\u001b[38;5;241m.\u001b[39mtranspose([times1,\u001b[38;5;241m1.0\u001b[39m\u001b[38;5;241m-\u001b[39mtrotter_val])\n\u001b[1;32m      4\u001b[0m     df\u001b[38;5;241m=\u001b[39mpd\u001b[38;5;241m.\u001b[39mDataFrame(mydata)\n\u001b[1;32m      5\u001b[0m     df\u001b[38;5;241m.\u001b[39mto_csv(\u001b[38;5;124m'\u001b[39m\u001b[38;5;124mtrotter_id\u001b[39m\u001b[38;5;132;01m%d\u001b[39;00m\u001b[38;5;124m_dt\u001b[39m\u001b[38;5;132;01m%0.1f\u001b[39;00m\u001b[38;5;124m'\u001b[39m\u001b[38;5;241m%\u001b[39m(instance_id,delt),sep\u001b[38;5;241m=\u001b[39m\u001b[38;5;124m'\u001b[39m\u001b[38;5;130;01m\\t\u001b[39;00m\u001b[38;5;124m'\u001b[39m,header\u001b[38;5;241m=\u001b[39m\u001b[38;5;28;01mNone\u001b[39;00m,index\u001b[38;5;241m=\u001b[39m\u001b[38;5;28;01mFalse\u001b[39;00m,mode\u001b[38;5;241m=\u001b[39m\u001b[38;5;124m'\u001b[39m\u001b[38;5;124mw\u001b[39m\u001b[38;5;124m'\u001b[39m)\n",
      "\u001b[0;31mNameError\u001b[0m: name 'trotter_val' is not defined"
     ]
    }
   ],
   "source": [
    "write_trotter_data=1\n",
    "if write_trotter_data:\n",
    "    mydata=np.transpose([times1,1.0-trotter_val])\n",
    "    df=pd.DataFrame(mydata)\n",
    "    df.to_csv('trotter_id%d_dt%0.1f'%(instance_id,delt),sep='\\t',header=None,index=False,mode='w')"
   ]
  },
  {
   "cell_type": "code",
   "execution_count": null,
   "metadata": {},
   "outputs": [],
   "source": []
  }
 ],
 "metadata": {
  "kernelspec": {
   "display_name": "Python 3 (ipykernel)",
   "language": "python",
   "name": "python3"
  },
  "language_info": {
   "codemirror_mode": {
    "name": "ipython",
    "version": 3
   },
   "file_extension": ".py",
   "mimetype": "text/x-python",
   "name": "python",
   "nbconvert_exporter": "python",
   "pygments_lexer": "ipython3",
   "version": "3.11.5"
  }
 },
 "nbformat": 4,
 "nbformat_minor": 4
}
