{
 "cells": [
  {
   "cell_type": "markdown",
   "metadata": {},
   "source": [
    "Classical shadows\n",
    "=================\n",
    "\n",
    "::: {.meta}\n",
    ":property=\\\"og:description\\\": Learn how to construct classical shadows\n",
    "and use them to estimate observables. :property=\\\"og:image\\\":\n",
    "<https://pennylane.ai/qml/_static/demonstration_assets//atom_shadow.png>\n",
    ":::\n",
    "\n",
    "::: {.related}\n",
    "tutorial\\_measurement\\_optimize Measurement optimization quantum\\_volume\n",
    "Quantum volume tutorial\\_quantum\\_metrology Variationally optimizing\n",
    "measurement protocols\n",
    ":::\n",
    "\n",
    "*Authors: Roeland Wiersema and Brian Doolittle (Xanadu Residents) ---\n",
    "Posted: 14 June 2021. Last updated: 14 June 2021.*\n",
    "\n",
    "![](../_static/demonstration_assets/classical_shadows/atom_shadow.png){.align-center\n",
    "width=\"75.0%\"}\n",
    "\n",
    "Estimating properties of unknown quantum states is a key objective of\n",
    "quantum information science and technology. For example, one might want\n",
    "to check whether an apparatus prepares a particular target state, or\n",
    "verify that an unknown system is entangled. In principle, any unknown\n",
    "quantum state can be fully characterized by [quantum state\n",
    "tomography](https://arxiv.org/pdf/quant-ph/0302028.pdf). However, this\n",
    "procedure requires accurate expectation values for a set of observables\n",
    "whose size grows exponentially with the number of qubits. A potential\n",
    "workaround for these scaling concerns is provided by the classical\n",
    "shadow approximation introduced in a recent paper by Huang et al..\n",
    "\n",
    "The approximation is an efficient protocol for constructing a *classical\n",
    "shadow* representation of an unknown quantum state. The classical shadow\n",
    "can be used to estimate properties such as quantum state fidelity,\n",
    "expectation values of Hamiltonians, entanglement witnesses, and\n",
    "two-point correlators.\n",
    "\n",
    "![(Image from Huang et\n",
    "al..)](../_static/demonstration_assets/classical_shadows/classical_shadow_overview.png){.align-center\n",
    "width=\"90.0%\"}\n",
    "\n",
    "In this demo, we use PennyLane to obtain classical shadows of a quantum\n",
    "state prepared by a quantum circuit, and use them to reconstruct the\n",
    "state and estimate expectation values of observables.\n"
   ]
  },
  {
   "cell_type": "markdown",
   "metadata": {},
   "source": [
    "Constructing a Classical Shadow\n",
    "===============================\n",
    "\n",
    "Classical shadow estimation relies on the fact that for a particular\n",
    "choice of measurement, we can efficiently store snapshots of the state\n",
    "that contain enough information to accurately predict linear functions\n",
    "of observables. Depending on what type of measurements we choose, we\n",
    "have an information-theoretic bound that allows us to control the\n",
    "precision of our estimator.\n",
    "\n",
    "Let us consider an $n$-qubit quantum state $\\rho$ (prepared by a\n",
    "circuit) and apply a random unitary $U$ to the state:\n",
    "\n",
    "$$|\\psi\\rangle \\to U |\\psi\\rangle $$\n",
    "\n",
    "$$\\rho=|\\psi\\rangle\\langle\\psi| \\to U|\\psi\\rangle\\langle\\psi|U^\\dagger$$\n",
    "\n",
    "$$\\rho \\to U \\rho U^\\dagger.$$\n",
    "\n",
    "Next, we measure in the computational basis and obtain a bit string of\n",
    "outcomes $|b\\rangle = |0011\\ldots10\\rangle$. If the unitaries $U$ are\n",
    "chosen at random from a particular ensemble, then we can store the\n",
    "reverse operation $U^\\dagger |b\\rangle\\langle b| U$ efficiently in\n",
    "classical memory. We call this a *snapshot* of the state. Moreover, we\n",
    "can view the average over these snapshots as a measurement channel:\n",
    "\n",
    "$$\\mathbb{E}\\left[U^\\dagger |b\\rangle\\langle b| U\\right] = \\mathcal{M}(\\rho).$$\n",
    "\n",
    "If the ensemble of unitaries defines a tomographically complete set of\n",
    "measurements, we can invert the channel and reconstruct the state:\n",
    "\n",
    "$$\\rho = \\mathbb{E}\\left[\\mathcal{M}^{-1}\\left(U^\\dagger |b\\rangle\\langle b| U \\right)\\right].$$\n",
    "\n",
    "If we apply the procedure outlined above $N$ times, then the collection\n",
    "of inverted snapshots is what we call the *classical shadow*\n",
    "\n",
    "$$S(\\rho,N) = \\left\\{\\hat{\\rho}_1= \\mathcal{M}^{-1}\\left(U_1^\\dagger |b_1\\rangle\\langle b_1| U_1 \\right)\n",
    ",\\ldots, \\hat{\\rho}_N= \\mathcal{M}^{-1}\\left(U_N^\\dagger |b_N\\rangle\\langle b_N| U_N \\right)\n",
    "\\right\\}.$$\n",
    "\n",
    "The inverted channel is not physical, i.e., it is not completely postive\n",
    "and trace preserving (CPTP). However, this is of no concern to us, since\n",
    "all we care about is efficiently applying this inverse channel to the\n",
    "observed snapshots as a post-processing step.\n",
    "\n",
    "Since the shadow approximates $\\rho$, we can now estimate **any**\n",
    "observable with the empirical mean:\n",
    "\n",
    "$$\\langle O \\rangle = \\frac{1}{N}\\sum_i \\text{Tr}{\\hat{\\rho}_i O}.$$\n",
    "\n",
    "Note that the classical shadow is independent of the observables we want\n",
    "to estimate, as $S(\\rho,N)$ contains only information about the state!\n",
    "\n",
    "Furthermore, the authors of prove that with a shadow of size $N$, we can\n",
    "predict $M$ arbitary linear functions\n",
    "$\\text{Tr}{O_1\\rho},\\ldots,\\text{Tr}{O_M \\rho}$ up to an additive error\n",
    "$\\epsilon$ if\n",
    "$N\\geq \\mathcal{O}\\left(\\log{M} \\max_i ||O_i||^2_{\\text{shadow}}/\\epsilon^2\\right)$.\n",
    "The shadow norm $||O_i||^2_{\\text{shadow}}$ depends on the unitary\n",
    "ensemble that is chosen.\n",
    "\n",
    "Two different ensembles can be considered for selecting the random\n",
    "unitaries $U$:\n",
    "\n",
    "1.  Random $n$-qubit Clifford circuits.\n",
    "2.  Tensor products of random single-qubit Clifford circuits.\n",
    "\n",
    "Although ensemble 1 leads to the most powerful estimators, it comes with\n",
    "serious practical limitations since $n^2 / \\log(n)$ entangling gates are\n",
    "required to sample the Clifford circuit. The snapshots of both ensembles\n",
    "can be stored efficiently using the [stabilizer\n",
    "formalism](https://arxiv.org/abs/quant-ph/9705052). Single-qubit\n",
    "Clifford circuits rotate the measurement basis to one of the Pauli\n",
    "eigenbases, so ensemble 2 is equivalent to measuring single shots of\n",
    "single-qubit Pauli observables on all qubits. For the purposes of this\n",
    "demo we focus on ensemble 2, which is a more NISQ-friendly approach.\n",
    "\n",
    "This ensemble comes with a significant drawback: the shadow norm\n",
    "$||O_i||^2_{\\text{shadow}}$ becomes dependent on the locality $k$ of the\n",
    "observables that we want to estimate:\n",
    "\n",
    "$$||O_i||^2_{\\text{shadow}} \\leq 4^k ||O_i||_\\infty^2.$$\n",
    "\n",
    "Say that we want to estimate the single expectation value of a Pauli\n",
    "observable $\\langle X_1 \\otimes X_2 \\otimes \\ldots \\otimes X_n \\rangle$.\n",
    "Estimating this from repeated measurements would require $1/\\epsilon^2$\n",
    "samples, whereas we would need an exponentially large shadow due to the\n",
    "$4^n$ appearing in the bound. Therefore, classical shadows based on\n",
    "Pauli measurements only offer an advantage when we have to measure a\n",
    "large number of observables with modest locality.\n",
    "\n",
    "We will now demonstrate how to obtain classical shadows using PennyLane.\n"
   ]
  },
  {
   "cell_type": "code",
   "execution_count": 1,
   "metadata": {
    "collapsed": false,
    "jupyter": {
     "outputs_hidden": false
    },
    "tags": []
   },
   "outputs": [],
   "source": [
    "import pennylane as qml\n",
    "import pennylane.numpy as np\n",
    "import matplotlib.pyplot as plt\n",
    "import time\n",
    "\n",
    "from IPython.core.interactiveshell import InteractiveShell\n",
    "InteractiveShell.ast_node_interactivity = \"all\"\n",
    "\n",
    "np.random.seed(666)"
   ]
  },
  {
   "cell_type": "markdown",
   "metadata": {},
   "source": [
    "A classical shadow is a collection of $N$ individual snapshots\n",
    "$\\hat{\\rho}_i$. Each snapshot is obtained with the following procedure:\n",
    "\n",
    "1.  The quantum state $\\rho$ is prepared with a circuit.\n",
    "2.  A unitary $U$ is randomly selected from the ensemble and applied to\n",
    "    $\\rho$.\n",
    "3.  A computational basis measurement is performed.\n",
    "4.  The snapshot is recorded as the observed eigenvalue $1,-1$ for\n",
    "    $|0\\rangle,|1\\rangle$, respectively, and the index of the randomly\n",
    "    selected unitary $U$.\n",
    "\n",
    "To obtain a classical shadow using PennyLane, we design the\n",
    "`calculate_classical_shadow` function below. This function obtains a\n",
    "classical shadow for the state prepared by an input `circuit_template`.\n"
   ]
  },
  {
   "cell_type": "code",
   "execution_count": 2,
   "metadata": {
    "collapsed": false,
    "jupyter": {
     "outputs_hidden": false
    }
   },
   "outputs": [],
   "source": [
    "def calculate_classical_shadow(circuit_template, params, shadow_size, num_qubits):\n",
    "    \"\"\"\n",
    "    Given a circuit, creates a collection of snapshots consisting of a bit string\n",
    "    and the index of a unitary operation.\n",
    "\n",
    "    Args:\n",
    "        circuit_template (function): A Pennylane QNode.\n",
    "        params (array): Circuit parameters.\n",
    "        shadow_size (int): The number of snapshots in the shadow.\n",
    "        num_qubits (int): The number of qubits in the circuit.\n",
    "\n",
    "    Returns:\n",
    "        Tuple of two numpy arrays. The first array contains measurement outcomes (-1, 1)\n",
    "        while the second array contains the index for the sampled Pauli's (0,1,2=X,Y,Z).\n",
    "        Each row of the arrays corresponds to a distinct snapshot or sample while each\n",
    "        column corresponds to a different qubit.\n",
    "    \"\"\"\n",
    "    # applying the single-qubit Clifford circuit is equivalent to measuring a Pauli\n",
    "    unitary_ensemble = [qml.PauliX, qml.PauliY, qml.PauliZ] # Pennylane operation list\n",
    "\n",
    "    # sample random Pauli measurements uniformly, where 0,1,2 = X,Y,Z\n",
    "    unitary_ids = np.random.randint(0, 3, size=(shadow_size, num_qubits))\n",
    "    #print(\"unitary ids\",unitary_ids)\n",
    "    outcomes = np.zeros((shadow_size, num_qubits))\n",
    "\n",
    "    for ns in range(shadow_size):\n",
    "        # for each snapshot, add a random Pauli observable at each qubit; so two qubit circuit will require two observable randomly chosen from unitary ensemble\n",
    "        # for each qubit\n",
    "        obs = [unitary_ensemble[int(unitary_ids[ns, i])](i) for i in range(num_qubits)]  # e.g. qml.PauliX(i) set X operation on i qubit\n",
    "        outcomes[ns, :] = circuit_template(params, observable=obs)\n",
    "\n",
    "    # combine the computational basis outcomes and the sampled unitaries\n",
    "    return (outcomes, unitary_ids)"
   ]
  },
  {
   "cell_type": "code",
   "execution_count": 3,
   "metadata": {
    "tags": []
   },
   "outputs": [
    {
     "data": {
      "text/plain": [
       "PauliX(wires=[0])"
      ]
     },
     "execution_count": 3,
     "metadata": {},
     "output_type": "execute_result"
    }
   ],
   "source": [
    "unitary_ensemble=[qml.PauliX, qml.PauliY, qml.PauliZ] # pennylane gate operations\n",
    "unitary_ensemble[0](0)"
   ]
  },
  {
   "cell_type": "markdown",
   "metadata": {},
   "source": [
    "As an example, we demonstrate how to use `calculate_classical_shadow`\n",
    "and check its performance as the number of snapshots increases. First,\n",
    "we will create a two-qubit device and a circuit that applies an `RY`\n",
    "rotation to each qubit.\n"
   ]
  },
  {
   "cell_type": "code",
   "execution_count": 4,
   "metadata": {
    "collapsed": false,
    "jupyter": {
     "outputs_hidden": false
    }
   },
   "outputs": [
    {
     "name": "stdout",
     "output_type": "stream",
     "text": [
      "setting the seed for understanding, remove later *****************************\n"
     ]
    },
    {
     "data": {
      "text/plain": [
       "tensor([-1.32104352,  2.01675288], requires_grad=True)"
      ]
     },
     "execution_count": 4,
     "metadata": {},
     "output_type": "execute_result"
    },
    {
     "name": "stdout",
     "output_type": "stream",
     "text": [
      "0: ──RY(-1.32)─┤     \n",
      "1: ──RY(2.02)──┤  <X>\n",
      "[(tensor([[ 1., -1.]], requires_grad=True), tensor([[0, 2]], requires_grad=True))]\n"
     ]
    }
   ],
   "source": [
    "num_qubits = 2\n",
    "\n",
    "# set up a two-qubit device with shots = 1 to ensure that we only get a single measurement\n",
    "dev = qml.device(\"lightning.qubit\", wires=num_qubits, shots=1)\n",
    "\n",
    "print(\"setting the seed for understanding, remove later *****************************\")\n",
    "myseed=1003\n",
    "np.random.seed(myseed)\n",
    "# simple circuit to prepare rho\n",
    "\n",
    "@qml.qnode(dev) # decorator that turns the following Python function into a PennyLane quantum node (qnode).\n",
    "#The dev argument specifies the quantum device to be associated with this qnode.\n",
    "#A qnode is essentially a quantum function that defines a quantum circuit. \n",
    "#By using the @qml.qnode decorator, you can define a quantum circuit using PennyLane's quantum operations\n",
    "#and then evaluate it on the specified quantum device (dev in this case).\n",
    "def local_qubit_rotation_circuit(params, **kwargs):\n",
    "    observables = kwargs.pop(\"observable\") # Kwargs is a dictionary; pop gets the value of the specified key 'observable'\n",
    "    for w in dev.wires:\n",
    "        qml.RY(params[w], wires=w)\n",
    "\n",
    "    return [qml.expval(o) for o in observables] # expval(o) computes the expectation value of the observable o: o is Pennlylane Operation\n",
    "\n",
    "\n",
    "# arrays in which to collect data\n",
    "elapsed_times = []\n",
    "shadows = []\n",
    "\n",
    "# collecting shadows and elapsed times\n",
    "params = np.random.randn(2)\n",
    "params\n",
    "\n",
    "#draw the circuit\n",
    "print(qml.draw(local_qubit_rotation_circuit)(params,observable=[qml.PauliX(1)] ) )\n",
    "\n",
    "\n",
    "#create shadow\n",
    "snapshot_array=[1] #10, 100, 1000, 10000]\n",
    "for num_snapshots in snapshot_array: \n",
    "    start = time.time()\n",
    "    shadow = calculate_classical_shadow(local_qubit_rotation_circuit, params, num_snapshots, num_qubits)\n",
    "    elapsed_times.append(time.time() - start)\n",
    "    shadows.append(shadow)\n",
    "\n",
    "# printing out the smallest shadow as an example\n",
    "print(shadows)"
   ]
  },
  {
   "cell_type": "markdown",
   "metadata": {},
   "source": [
    "Observe that the shadow simply consists of two matrices. Each qubit\n",
    "corresponds to a different column. The first matrix describes outcome of\n",
    "the measurement while the second matrix indexes the measurement applied\n",
    "to each qubit. We now plot the computation times taken to acquire the\n",
    "shadows.\n"
   ]
  },
  {
   "cell_type": "code",
   "execution_count": 5,
   "metadata": {
    "collapsed": false,
    "jupyter": {
     "outputs_hidden": false
    }
   },
   "outputs": [
    {
     "data": {
      "text/plain": [
       "[<matplotlib.lines.Line2D at 0x7f5780127550>]"
      ]
     },
     "execution_count": 5,
     "metadata": {},
     "output_type": "execute_result"
    },
    {
     "data": {
      "text/plain": [
       "Text(0.5, 1.0, 'Time taken to obtain a classical shadow from a two-qubit state')"
      ]
     },
     "execution_count": 5,
     "metadata": {},
     "output_type": "execute_result"
    },
    {
     "data": {
      "text/plain": [
       "Text(0.5, 0, 'Number of Snapshots in Shadow')"
      ]
     },
     "execution_count": 5,
     "metadata": {},
     "output_type": "execute_result"
    },
    {
     "data": {
      "text/plain": [
       "Text(0, 0.5, 'Elapsed Time')"
      ]
     },
     "execution_count": 5,
     "metadata": {},
     "output_type": "execute_result"
    },
    {
     "data": {
      "image/png": "[encoded data removed]",
      "text/plain": [
       "<Figure size 640x480 with 1 Axes>"
      ]
     },
     "metadata": {},
     "output_type": "display_data"
    }
   ],
   "source": [
    "plt.plot(snapshot_array, elapsed_times)\n",
    "plt.title(\"Time taken to obtain a classical shadow from a two-qubit state\")\n",
    "plt.xlabel(\"Number of Snapshots in Shadow\")\n",
    "plt.ylabel(\"Elapsed Time\")\n",
    "plt.show()"
   ]
  },
  {
   "cell_type": "markdown",
   "metadata": {},
   "source": [
    "As one might expect, the computation time increases linearly with the\n",
    "number of snapshots. This linear scaling is useful for predicting the\n",
    "length of time required to obtain a sufficient number of snapshots for\n",
    "observable estimation.\n"
   ]
  },
  {
   "cell_type": "markdown",
   "metadata": {},
   "source": [
    "State Reconstruction from a Classical Shadow\n",
    "============================================\n",
    "\n",
    "To verify that the classical shadow approximates the exact state that we\n",
    "want to estimate, we tomographically reconstruct the original quantum\n",
    "state $\\rho$ from a classical shadow. Remember that we can approximate\n",
    "$\\rho$ by averaging over the snapshots and applying the inverse\n",
    "measurement channel,\n",
    "\n",
    "$$\\rho = \\mathbb{E}\\left[\\mathcal{M}^{-1}(U^{\\dagger}|\\hat{b}\\rangle\\langle\\hat{b}|U)\\right].$$\n",
    "\n",
    "The expectation $\\mathbb{E}[\\cdot]$ describes the average over the\n",
    "measurement outcomes $|b\\rangle$ and the sampled unitaries. Inverting\n",
    "the measurement channel may seem formidable at first, however, Huang et\n",
    "al. show that for Pauli measurements we end up with a rather convenient\n",
    "expression,\n",
    "\n",
    "$$\\rho=\\mathbb{E}[\\hat{\\rho}], \\quad \\text{where} \\quad\n",
    "\\hat{\\rho} = \\bigotimes_{j=1}^n(3U^{\\dagger}_j|\\hat{b}_j\\rangle\\langle\\hat{b}_j|U_j-\\mathbb{I}).$$\n",
    "\n",
    "Here $\\hat{\\rho}$ is a snapshot state reconstructed from a single sample\n",
    "in the classical shadow, and $\\rho$ is the average over all snapshot\n",
    "states $\\hat{\\rho}$ in the shadow.\n",
    "\n",
    "To implement the state reconstruction of $\\rho$ in PennyLane, we develop\n",
    "the `shadow_state_reconstruction` function.\n"
   ]
  },
  {
   "cell_type": "code",
   "execution_count": 6,
   "metadata": {
    "collapsed": false,
    "jupyter": {
     "outputs_hidden": false
    }
   },
   "outputs": [],
   "source": [
    "def snapshot_state(b_list, obs_list):\n",
    "    \"\"\"\n",
    "    Helper function for `shadow_state_reconstruction` that reconstructs\n",
    "     a state from a single snapshot in a shadow.\n",
    "\n",
    "    Implements Eq. (S44) from https://arxiv.org/pdf/2002.08953.pdf\n",
    "\n",
    "    Args:\n",
    "        b_list (array): The list of classical outcomes for the snapshot.\n",
    "        obs_list (array): Indices for the applied Pauli measurement.\n",
    "\n",
    "    Returns:\n",
    "        Numpy array with the reconstructed snapshot.\n",
    "    \"\"\"\n",
    "    num_qubits = len(b_list)\n",
    "\n",
    "    # computational basis states\n",
    "    zero_state = np.array([[1, 0], [0, 0]])\n",
    "    one_state = np.array([[0, 0], [0, 1]])\n",
    "\n",
    "    # local qubit unitaries\n",
    "    phase_z = np.array([[1, 0], [0, -1j]], dtype=complex)\n",
    "    hadamard = qml.matrix(qml.Hadamard(0))\n",
    "    identity = qml.matrix(qml.Identity(0))\n",
    "\n",
    "    # undo the rotations that were added implicitly to the circuit for the Pauli measurements\n",
    "    unitaries = [hadamard, hadamard @ phase_z, identity]\n",
    "\n",
    "    # reconstructing the snapshot state from local Pauli measurements\n",
    "    rho_snapshot = [1]\n",
    "    for i in range(num_qubits):\n",
    "        state = zero_state if b_list[i] == 1 else one_state\n",
    "        U = unitaries[int(obs_list[i])]\n",
    "\n",
    "        # applying Eq. (S44)\n",
    "        local_rho = 3 * (U.conj().T @ state @ U) - identity\n",
    "        rho_snapshot = np.kron(rho_snapshot, local_rho)\n",
    "\n",
    "    return rho_snapshot\n",
    "\n",
    "\n",
    "def shadow_state_reconstruction(shadow):\n",
    "    \"\"\"\n",
    "    Reconstruct a state approximation as an average over all snapshots in the shadow.\n",
    "\n",
    "    Args:\n",
    "        shadow (tuple): A shadow tuple obtained from `calculate_classical_shadow`.\n",
    "\n",
    "    Returns:\n",
    "        Numpy array with the reconstructed quantum state.\n",
    "    \"\"\"\n",
    "    num_snapshots, num_qubits = shadow[0].shape\n",
    "\n",
    "    # classical values\n",
    "    b_lists, obs_lists = shadow\n",
    "\n",
    "    # Averaging over snapshot states.\n",
    "    shadow_rho = np.zeros((2 ** num_qubits, 2 ** num_qubits), dtype=complex)\n",
    "    for i in range(num_snapshots):\n",
    "        shadow_rho += snapshot_state(b_lists[i], obs_lists[i])\n",
    "\n",
    "    return shadow_rho / num_snapshots"
   ]
  },
  {
   "cell_type": "markdown",
   "metadata": {},
   "source": [
    "Example: Reconstructing a Bell State\n",
    "====================================\n",
    "\n",
    "First, we construct a single-shot, `'lightning.qubit'` device and define\n",
    "the `bell_state_circuit` QNode to construct and measure a Bell state.\n"
   ]
  },
  {
   "cell_type": "code",
   "execution_count": 7,
   "metadata": {
    "collapsed": false,
    "jupyter": {
     "outputs_hidden": false
    }
   },
   "outputs": [],
   "source": [
    "num_qubits = 2\n",
    "\n",
    "dev = qml.device(\"lightning.qubit\", wires=num_qubits, shots=1)\n",
    "\n",
    "\n",
    "# circuit to create a Bell state and measure it in\n",
    "# the bases specified by the 'observable' keyword argument.\n",
    "@qml.qnode(dev)\n",
    "def bell_state_circuit(params, **kwargs):\n",
    "    observables = kwargs.pop(\"observable\")\n",
    "\n",
    "    qml.Hadamard(0)\n",
    "    qml.CNOT(wires=[0, 1])\n",
    "\n",
    "    return [qml.expval(o) for o in observables]"
   ]
  },
  {
   "cell_type": "markdown",
   "metadata": {},
   "source": [
    "Then, construct a classical shadow consisting of 1000 snapshots.\n"
   ]
  },
  {
   "cell_type": "code",
   "execution_count": 8,
   "metadata": {
    "collapsed": false,
    "jupyter": {
     "outputs_hidden": false
    }
   },
   "outputs": [
    {
     "name": "stdout",
     "output_type": "stream",
     "text": [
      "[[ 1. -1.]\n",
      " [-1. -1.]\n",
      " [ 1.  1.]\n",
      " ...\n",
      " [-1. -1.]\n",
      " [-1.  1.]\n",
      " [-1. -1.]]\n",
      "[[2 0]\n",
      " [0 1]\n",
      " [2 1]\n",
      " ...\n",
      " [0 2]\n",
      " [2 0]\n",
      " [1 2]]\n"
     ]
    }
   ],
   "source": [
    "num_snapshots = 1000\n",
    "params = []\n",
    "\n",
    "shadow = calculate_classical_shadow(\n",
    "    bell_state_circuit, params, num_snapshots, num_qubits\n",
    ")\n",
    "print(shadow[0])\n",
    "print(shadow[1])"
   ]
  },
  {
   "cell_type": "markdown",
   "metadata": {},
   "source": [
    "To reconstruct the Bell state we use `shadow_state_reconstruction`.\n"
   ]
  },
  {
   "cell_type": "code",
   "execution_count": 9,
   "metadata": {
    "collapsed": false,
    "jupyter": {
     "outputs_hidden": false
    }
   },
   "outputs": [
    {
     "name": "stdout",
     "output_type": "stream",
     "text": [
      "[[ 0.586 +0.j      0.0135+0.015j   0.0075-0.0345j  0.4815-0.027j ]\n",
      " [ 0.0135-0.015j  -0.065 +0.j      0.0675-0.054j  -0.015 +0.033j ]\n",
      " [ 0.0075+0.0345j  0.0675+0.054j  -0.065 +0.j     -0.0315+0.015j ]\n",
      " [ 0.4815+0.027j  -0.015 -0.033j  -0.0315-0.015j   0.544 +0.j    ]]\n"
     ]
    }
   ],
   "source": [
    "shadow_state = shadow_state_reconstruction(shadow)\n",
    "print(np.round(shadow_state, decimals=6))"
   ]
  },
  {
   "cell_type": "markdown",
   "metadata": {},
   "source": [
    "Note the resemblance to the exact Bell state density matrix.\n"
   ]
  },
  {
   "cell_type": "code",
   "execution_count": 10,
   "metadata": {
    "collapsed": false,
    "jupyter": {
     "outputs_hidden": false
    }
   },
   "outputs": [
    {
     "data": {
      "text/plain": [
       "tensor([[0.5, 0. , 0. , 0.5],\n",
       "        [0. , 0. , 0. , 0. ],\n",
       "        [0. , 0. , 0. , 0. ],\n",
       "        [0.5, 0. , 0. , 0.5]], requires_grad=True)"
      ]
     },
     "execution_count": 10,
     "metadata": {},
     "output_type": "execute_result"
    },
    {
     "data": {
      "text/plain": [
       "tensor([[0.5, 0. , 0. , 0.5],\n",
       "        [0. , 0. , 0. , 0. ],\n",
       "        [0. , 0. , 0. , 0. ],\n",
       "        [0.5, 0. , 0. , 0.5]], requires_grad=True)"
      ]
     },
     "execution_count": 10,
     "metadata": {},
     "output_type": "execute_result"
    }
   ],
   "source": [
    "X=np.array([1/np.sqrt(2),0,0,1/np.sqrt(2)])\n",
    "\n",
    "np.outer(X,X)\n",
    "\n",
    "bell_state = np.array([[0.5, 0, 0, 0.5], [0, 0, 0, 0], [0, 0, 0, 0], [0.5, 0, 0, 0.5]])\n",
    "bell_state"
   ]
  },
  {
   "cell_type": "markdown",
   "metadata": {},
   "source": [
    "To measure the closeness we can use the operator norm.\n"
   ]
  },
  {
   "cell_type": "code",
   "execution_count": 11,
   "metadata": {
    "collapsed": false,
    "jupyter": {
     "outputs_hidden": false
    }
   },
   "outputs": [
    {
     "data": {
      "text/plain": [
       "(0.20793989516203956+0j)"
      ]
     },
     "execution_count": 11,
     "metadata": {},
     "output_type": "execute_result"
    }
   ],
   "source": [
    "def operator_2_norm(R):\n",
    "    \"\"\"\n",
    "    Calculate the operator 2-norm.\n",
    "\n",
    "    Args:\n",
    "        R (array): The operator whose norm we want to calculate.\n",
    "\n",
    "    Returns:\n",
    "        Scalar corresponding to the norm.\n",
    "    \"\"\"\n",
    "    return np.sqrt(np.trace(R.conjugate().transpose() @ R))\n",
    "\n",
    "\n",
    "# Calculating the distance between ideal and shadow states.\n",
    "operator_2_norm(bell_state - shadow_state)"
   ]
  },
  {
   "cell_type": "markdown",
   "metadata": {},
   "source": [
    "Finally, we see how the approximation improves as we increase the number\n",
    "of snapshots. We run the estimator 10 times for each $N$.\n"
   ]
  },
  {
   "cell_type": "code",
   "execution_count": 12,
   "metadata": {
    "collapsed": false,
    "jupyter": {
     "outputs_hidden": false
    }
   },
   "outputs": [
    {
     "name": "stdout",
     "output_type": "stream",
     "text": [
      "0 0 [[ 0.385 +0.j     -0.0525+0.0075j -0.0675-0.0075j  0.405 +0.09j  ]\n",
      " [-0.0525-0.0075j  0.025 +0.j      0.135 +0.045j   0.0225-0.0075j]\n",
      " [-0.0675+0.0075j  0.135 -0.045j  -0.065 +0.j      0.0825-0.0375j]\n",
      " [ 0.405 -0.09j    0.0225+0.0075j  0.0825+0.0375j  0.655 +0.j    ]]\n",
      "0 1 [[ 5.305e-01+0.j       2.925e-02-0.02775j -2.325e-02+0.01275j\n",
      "   4.725e-01-0.0945j ]\n",
      " [ 2.925e-02+0.02775j -1.250e-02+0.j      -3.600e-02+0.0585j\n",
      "   3.075e-02-0.05025j]\n",
      " [-2.325e-02-0.01275j -3.600e-02-0.0585j  -5.000e-04+0.j\n",
      "   6.750e-03-0.00525j]\n",
      " [ 4.725e-01+0.0945j   3.075e-02+0.05025j  6.750e-03+0.00525j\n",
      "   4.825e-01+0.j     ]]\n",
      "0 2 [[ 0.49475 +0.j        0.005375-0.008375j  0.022   +0.00325j\n",
      "   0.505125+0.011625j]\n",
      " [ 0.005375+0.008375j  0.009   +0.j        0.001875+0.008625j\n",
      "  -0.0095  -0.002j   ]\n",
      " [ 0.022   -0.00325j   0.001875-0.008625j -0.01225 +0.j\n",
      "   0.010625+0.005875j]\n",
      " [ 0.505125-0.011625j -0.0095  +0.002j     0.010625-0.005875j\n",
      "   0.5085  +0.j      ]]\n",
      "1 0 [[ 6.7750000e-01+0.j     -4.4408921e-18-0.1125j -3.7500000e-02-0.195j\n",
      "   4.5000000e-01-0.0675j]\n",
      " [-4.4408921e-18+0.1125j -1.7750000e-01+0.j      1.3500000e-01+0.0225j\n",
      "   5.2500000e-02+0.12j  ]\n",
      " [-3.7500000e-02+0.195j   1.3500000e-01-0.0225j -8.7500000e-02+0.j\n",
      "   0.0000000e+00+0.0225j]\n",
      " [ 4.5000000e-01+0.0675j  5.2500000e-02-0.12j    0.0000000e+00-0.0225j\n",
      "   5.8750000e-01+0.j    ]]\n",
      "1 1 [[ 0.46375+0.j       0.00825-0.012j    0.0255 -0.00675j  0.513  -0.07425j]\n",
      " [ 0.00825+0.012j    0.05275+0.j      -0.0045 -0.02475j -0.024  +0.04275j]\n",
      " [ 0.0255 +0.00675j -0.0045 +0.02475j  0.01975+0.j       0.00375+0.0015j ]\n",
      " [ 0.513  +0.07425j -0.024  -0.04275j  0.00375-0.0015j   0.46375+0.j     ]]\n",
      "1 2 [[ 4.93000000e-01+0.j      -6.75000000e-03+0.01875j\n",
      "  -4.50000000e-03+0.0005j   4.99500000e-01+0.0075j ]\n",
      " [-6.75000000e-03-0.01875j  1.25000000e-03+0.j\n",
      "  -2.40000000e-02+0.009j    1.50000000e-02-0.00025j]\n",
      " [-4.50000000e-03-0.0005j  -2.40000000e-02-0.009j\n",
      "  -1.90662301e-16+0.j       5.25000000e-03-0.02175j]\n",
      " [ 4.99500000e-01-0.0075j   1.50000000e-02+0.00025j\n",
      "   5.25000000e-03+0.02175j  5.05750000e-01+0.j     ]]\n",
      "2 0 [[ 0.76  +0.j      0.1275-0.0825j -0.0225+0.0075j  0.63  +0.135j ]\n",
      " [ 0.1275+0.0825j -0.08  +0.j     -0.045 +0.045j  -0.1125+0.0975j]\n",
      " [-0.0225-0.0075j -0.045 -0.045j  -0.23  +0.j     -0.0525+0.0075j]\n",
      " [ 0.63  -0.135j  -0.1125-0.0975j -0.0525-0.0075j  0.55  +0.j    ]]\n",
      "2 1 [[ 0.51175+0.j       0.015  +0.03375j -0.003  -0.02625j  0.48375+0.0225j ]\n",
      " [ 0.015  -0.03375j  0.03175+0.j       0.00225+0.0225j  -0.0165 -0.01275j]\n",
      " [-0.003  +0.02625j  0.00225-0.0225j  -0.00875+0.j      -0.003  +0.02025j]\n",
      " [ 0.48375-0.0225j  -0.0165 +0.01275j -0.003  -0.02025j  0.46525+0.j     ]]\n",
      "2 2 [[ 0.505375+0.j      -0.002875+0.003j    0.010375-0.016j\n",
      "   0.512625-0.00825j]\n",
      " [-0.002875-0.003j   -0.002375+0.j      -0.007125+0.009j\n",
      "   0.006625+0.0035j ]\n",
      " [ 0.010375+0.016j   -0.007125-0.009j   -0.014375+0.j\n",
      "   0.003875+0.0015j ]\n",
      " [ 0.512625+0.00825j  0.006625-0.0035j   0.003875-0.0015j\n",
      "   0.511375+0.j     ]]\n",
      "3 0 [[ 0.565 +0.j     -0.0825-0.0075j  0.045 +0.015j   0.5175+0.0225j]\n",
      " [-0.0825+0.0075j -0.005 +0.j     -0.0675+0.0225j  0.09  +0.06j  ]\n",
      " [ 0.045 -0.015j  -0.0675-0.0225j  0.01  +0.j      0.1425-0.0975j]\n",
      " [ 0.5175-0.0225j  0.09  -0.06j    0.1425+0.0975j  0.43  +0.j    ]]\n",
      "3 1 [[ 0.52   +0.j       0.0075 +0.012j   -0.02625-0.00225j  0.44325+0.02475j]\n",
      " [ 0.0075 -0.012j   -0.0125 +0.j       0.01125+0.01575j -0.00825-0.01575j]\n",
      " [-0.02625+0.00225j  0.01125-0.01575j -0.0545 +0.j      -0.033  +0.021j  ]\n",
      " [ 0.44325-0.02475j -0.00825+0.01575j -0.033  -0.021j    0.547  +0.j     ]]\n",
      "3 2 [[ 5.1550e-01+0.j       -4.8750e-03+0.022875j -4.3750e-03+0.007875j\n",
      "   4.9275e-01-0.006j   ]\n",
      " [-4.8750e-03-0.022875j -6.2500e-03+0.j        1.9500e-02+0.012j\n",
      "   1.2125e-02-0.010875j]\n",
      " [-4.3750e-03-0.007875j  1.9500e-02-0.012j    -6.0000e-03+0.j\n",
      "  -3.7500e-04-0.020625j]\n",
      " [ 4.9275e-01+0.006j     1.2125e-02+0.010875j -3.7500e-04+0.020625j\n",
      "   4.9675e-01+0.j      ]]\n",
      "4 0 [[ 4.67500000e-01+0.j      5.25000000e-02+0.03j   -3.99680289e-17-0.0525j\n",
      "   4.95000000e-01+0.2475j]\n",
      " [ 5.25000000e-02-0.03j    1.75000000e-02+0.j      4.50000000e-02-0.0225j\n",
      "   4.50000000e-02-0.0075j]\n",
      " [-3.99680289e-17+0.0525j  4.50000000e-02+0.0225j -5.75000000e-02+0.j\n",
      "  -3.75000000e-02+0.075j ]\n",
      " [ 4.95000000e-01-0.2475j  4.50000000e-02+0.0075j -3.75000000e-02-0.075j\n",
      "   5.72500000e-01+0.j    ]]\n",
      "4 1 [[ 0.51325+0.j     -0.02625-0.0435j -0.00375-0.012j   0.51975-0.009j ]\n",
      " [-0.02625+0.0435j  0.00325+0.j     -0.05175-0.0045j -0.01725+0.0285j]\n",
      " [-0.00375+0.012j  -0.05175+0.0045j  0.02425+0.j     -0.01275+0.051j ]\n",
      " [ 0.51975+0.009j  -0.01725-0.0285j -0.01275-0.051j   0.45925+0.j    ]]\n",
      "4 2 [[ 0.506375+0.00000000e+00j  0.006375+3.25000000e-03j\n",
      "   0.001875+4.50000000e-03j  0.487875+1.27500000e-02j]\n",
      " [ 0.006375-3.25000000e-03j  0.000875+0.00000000e+00j\n",
      "  -0.001125+1.72500000e-02j -0.001125+4.58892184e-18j]\n",
      " [ 0.001875-4.50000000e-03j -0.001125-1.72500000e-02j\n",
      "  -0.001875+0.00000000e+00j -0.001875-8.75000000e-03j]\n",
      " [ 0.487875-1.27500000e-02j -0.001125-4.58892184e-18j\n",
      "  -0.001875+8.75000000e-03j  0.494625+0.00000000e+00j]]\n",
      "5 0 [[ 0.52  +0.j      0.0075+0.0225j -0.2025-0.0675j  0.54  +0.135j ]\n",
      " [ 0.0075-0.0225j -0.02  +0.j     -0.225 +0.225j   0.1575+0.0225j]\n",
      " [-0.2025+0.0675j -0.225 -0.225j   0.07  +0.j      0.0975+0.0225j]\n",
      " [ 0.54  -0.135j   0.1575-0.0225j  0.0975-0.0225j  0.43  +0.j    ]]\n",
      "5 1 [[ 0.4945 +0.j      -0.01125+0.01725j  0.01875-0.04125j  0.5355 +0.063j  ]\n",
      " [-0.01125-0.01725j  0.0175 +0.j       0.027  +0.009j   -0.00825-0.01425j]\n",
      " [ 0.01875+0.04125j  0.027  -0.009j    0.0325 +0.j      -0.00225+0.03525j]\n",
      " [ 0.5355 -0.063j   -0.00825+0.01425j -0.00225-0.03525j  0.4555 +0.j     ]]\n",
      "5 2 [[ 0.49   +0.j       0.012  -0.015j   -0.00475+0.00475j  0.49575+0.012j  ]\n",
      " [ 0.012  +0.015j    0.01225+0.j      -0.024  +0.00225j -0.001  +0.00025j]\n",
      " [-0.00475-0.00475j -0.024  -0.00225j  0.00625+0.j       0.0075 -0.00525j]\n",
      " [ 0.49575-0.012j   -0.001  -0.00025j  0.0075 +0.00525j  0.4915 +0.j     ]]\n",
      "6 0 [[ 0.5125+0.j     -0.12  +0.1125j  0.015 +0.0975j  0.3375-0.045j ]\n",
      " [-0.12  -0.1125j  0.0025+0.j      0.0675-0.18j   -0.165 -0.0825j]\n",
      " [ 0.015 -0.0975j  0.0675+0.18j    0.0025+0.j      0.015 -0.1125j]\n",
      " [ 0.3375+0.045j  -0.165 +0.0825j  0.015 +0.1125j  0.4825+0.j    ]]\n",
      "6 1 [[ 0.5365 +0.j       0.027  +0.012j   -0.02025+0.01425j  0.51525+0.02025j]\n",
      " [ 0.027  -0.012j   -0.0635 +0.j       0.02025+0.01125j -0.01575-0.00825j]\n",
      " [-0.02025-0.01425j  0.02025-0.01125j -0.017  +0.j      -0.018  -0.0555j ]\n",
      " [ 0.51525-0.02025j -0.01575+0.00825j -0.018  +0.0555j   0.544  +0.j     ]]\n",
      "6 2 [[ 0.503   +0.j        0.01575 +0.01325j   0.002375+0.013375j\n",
      "   0.526125-0.001125j]\n",
      " [ 0.01575 -0.01325j  -0.0065  +0.j        0.021375-0.022875j\n",
      "   0.012875-0.006125j]\n",
      " [ 0.002375-0.013375j  0.021375+0.022875j -0.01025 +0.j\n",
      "  -0.00075 -0.019j   ]\n",
      " [ 0.526125+0.001125j  0.012875+0.006125j -0.00075 +0.019j\n",
      "   0.51375 +0.j      ]]\n",
      "7 0 [[ 0.385 +0.j      0.12  -0.03j    0.0525+0.0075j  0.4725-0.0675j]\n",
      " [ 0.12  +0.03j    0.13  +0.j      0.0225+0.1125j  0.0075-0.0825j]\n",
      " [ 0.0525-0.0075j  0.0225-0.1125j  0.145 +0.j     -0.195 +0.015j ]\n",
      " [ 0.4725+0.0675j  0.0075+0.0825j -0.195 -0.015j   0.34  +0.j    ]]\n",
      "7 1 [[ 0.51625+0.j     -0.00975+0.018j   0.01425-0.0315j  0.55575-0.0225j]\n",
      " [-0.00975-0.018j  -0.00875+0.j     -0.02475-0.036j  -0.09375+0.0045j]\n",
      " [ 0.01425+0.0315j -0.02475+0.036j  -0.00875+0.j     -0.00075+0.027j ]\n",
      " [ 0.55575+0.0225j -0.09375-0.0045j -0.00075-0.027j   0.50125+0.j    ]]\n",
      "7 2 [[ 5.0650e-01+0.j      -1.8500e-02+0.00325j -8.5000e-03+0.00975j\n",
      "   4.9800e-01-0.009j  ]\n",
      " [-1.8500e-02-0.00325j -7.5000e-04+0.j       4.5000e-03+0.036j\n",
      "   5.0000e-04-0.0105j ]\n",
      " [-8.5000e-03-0.00975j  4.5000e-03-0.036j   -1.3000e-02+0.j\n",
      "   2.3500e-02+0.00775j]\n",
      " [ 4.9800e-01+0.009j    5.0000e-04+0.0105j   2.3500e-02-0.00775j\n",
      "   5.0725e-01+0.j     ]]\n",
      "8 0 [[ 0.7  +0.j    -0.015+0.075j -0.045+0.09j   0.45 +0.225j]\n",
      " [-0.015-0.075j -0.05 +0.j     0.18 +0.045j -0.045-0.09j ]\n",
      " [-0.045-0.09j   0.18 -0.045j -0.125+0.j     0.075-0.15j ]\n",
      " [ 0.45 -0.225j -0.045+0.09j   0.075+0.15j   0.475+0.j   ]]\n",
      "8 1 [[ 0.469  +0.j       0.024  -0.009j    0.02175-0.03525j  0.50625+0.05175j]\n",
      " [ 0.024  +0.009j   -0.0035 +0.j       0.05175+0.02025j -0.00975+0.02775j]\n",
      " [ 0.02175+0.03525j  0.05175-0.02025j -0.0275 +0.j      -0.03   -0.0135j ]\n",
      " [ 0.50625-0.05175j -0.00975-0.02775j -0.03   +0.0135j   0.562  +0.j     ]]\n",
      "8 2 [[ 0.503875+0.j        0.00375 +0.013125j  0.0035  -0.006375j\n",
      "   0.495375-0.01575j ]\n",
      " [ 0.00375 -0.013125j  0.004125+0.j       -0.034125+0.006j\n",
      "  -0.004   +0.009375j]\n",
      " [ 0.0035  +0.006375j -0.034125-0.006j     0.009875+0.j\n",
      "  -0.00975 +0.002625j]\n",
      " [ 0.495375+0.01575j  -0.004   -0.009375j -0.00975 -0.002625j\n",
      "   0.482125+0.j      ]]\n",
      "9 0 [[ 0.325 +0.j     -0.045 +0.06j    0.0075-0.0825j  0.2925-0.0225j]\n",
      " [-0.045 -0.06j    0.115 +0.j     -0.0225+0.0225j -0.0825+0.0975j]\n",
      " [ 0.0075+0.0825j -0.0225-0.0225j  0.025 +0.j      0.    +0.015j ]\n",
      " [ 0.2925+0.0225j -0.0825-0.0975j  0.    -0.015j   0.535 +0.j    ]]\n",
      "9 1 [[ 0.52525+0.j       0.07275-0.039j   -0.0045 -0.00225j  0.4905 -0.01575j]\n",
      " [ 0.07275+0.039j    0.02275+0.j      -0.0135 -0.02475j -0.0225 +0.01125j]\n",
      " [-0.0045 +0.00225j -0.0135 +0.02475j -0.04025+0.j      -0.02175+0.006j  ]\n",
      " [ 0.4905 +0.01575j -0.0225 -0.01125j -0.02175-0.006j    0.49225+0.j     ]]\n",
      "9 2 [[ 0.502875+0.j        0.01075 -0.004875j -0.015375-0.00075j\n",
      "   0.49275 -0.016875j]\n",
      " [ 0.01075 +0.004875j  0.005875+0.j        0.00975 -0.019125j\n",
      "   0.016875-0.006j   ]\n",
      " [-0.015375+0.00075j   0.00975 +0.019125j -0.006125+0.j\n",
      "   0.00475 +0.014625j]\n",
      " [ 0.49275 +0.016875j  0.016875+0.006j     0.00475 -0.014625j\n",
      "   0.497375+0.j      ]]\n"
     ]
    },
    {
     "data": {
      "text/plain": [
       "<ErrorbarContainer object of 3 artists>"
      ]
     },
     "execution_count": 12,
     "metadata": {},
     "output_type": "execute_result"
    },
    {
     "data": {
      "text/plain": [
       "Text(0.5, 1.0, 'Distance between Ideal and Shadow Bell States')"
      ]
     },
     "execution_count": 12,
     "metadata": {},
     "output_type": "execute_result"
    },
    {
     "data": {
      "text/plain": [
       "Text(0.5, 0, 'Number of Snapshots')"
      ]
     },
     "execution_count": 12,
     "metadata": {},
     "output_type": "execute_result"
    },
    {
     "data": {
      "text/plain": [
       "Text(0, 0.5, 'Distance')"
      ]
     },
     "execution_count": 12,
     "metadata": {},
     "output_type": "execute_result"
    },
    {
     "data": {
      "image/png": "[encoded data removed]",
      "text/plain": [
       "<Figure size 640x480 with 1 Axes>"
      ]
     },
     "metadata": {},
     "output_type": "display_data"
    }
   ],
   "source": [
    "number_of_runs = 10\n",
    "snapshots_range = [100, 1000, 6000]\n",
    "distances = np.zeros((number_of_runs, len(snapshots_range)))\n",
    "\n",
    "# run the estimation multiple times so that we can include error bars\n",
    "for i in range(number_of_runs):\n",
    "    for j, num_snapshots in enumerate(snapshots_range):\n",
    "        shadow = calculate_classical_shadow(\n",
    "            bell_state_circuit, params, num_snapshots, num_qubits\n",
    "        )\n",
    "        shadow_state = shadow_state_reconstruction(shadow)\n",
    "        print(i,j,shadow_state)\n",
    "        distances[i, j] = np.real(operator_2_norm(bell_state - shadow_state))\n",
    "\n",
    "plt.errorbar(\n",
    "    snapshots_range,\n",
    "    np.mean(distances, axis=0),\n",
    "    yerr=np.std(distances, axis=0),\n",
    ")\n",
    "plt.title(\"Distance between Ideal and Shadow Bell States\")\n",
    "plt.xlabel(\"Number of Snapshots\")\n",
    "plt.ylabel(\"Distance\")\n",
    "plt.show()"
   ]
  },
  {
   "cell_type": "markdown",
   "metadata": {},
   "source": [
    "As expected, when the number of snapshots increases, the state\n",
    "reconstruction becomes closer to the ideal state.\n"
   ]
  },
  {
   "cell_type": "markdown",
   "metadata": {},
   "source": [
    "Estimating Pauli Observables with Classical Shadows\n",
    "===================================================\n",
    "\n",
    "We have confirmed that classical shadows can be used to reconstruct the\n",
    "state. However, the goal of classical shadows is not to perform full\n",
    "tomography, which takes an exponential amount of resources. Instead, we\n",
    "want to use the shadows to efficiently calculate linear functions of a\n",
    "quantum state. To do this, we write a function\n",
    "`estimate_shadow_observable` that takes in the previously constructed\n",
    "shadow $S(\\rho, N)=[\\hat{\\rho}_1,\\hat{\\rho}_2,\\ldots,\\hat{\\rho}_N]$, and\n",
    "estimates any observable via a median of means estimation. This makes\n",
    "the estimator more robust to outliers and is required to formally prove\n",
    "the aforementioned theoretical bound. The procedure is simple: split up\n",
    "the shadow into $K$ equally sized chunks and estimate the mean for each\n",
    "of these chunks,\n",
    "\n",
    "$$\\langle O_{(k)}\\rangle = \\text{Tr}\\{O \\hat{\\rho}_{(k)}\\} \\quad\n",
    "\\text{and} \\quad \\hat{\\rho}_{(k)} = \\frac{1}{ \\lfloor N/K \\rfloor }\n",
    "\\sum_{i=(k-1)\\lfloor N/K \\rfloor + 1}^{k \\lfloor N/K \\rfloor } \\hat{\\rho}_i.$$\n",
    "\n",
    "The median of means estimator is then simply the median of this set\n",
    "\n",
    "$$\\langle O\\rangle = \\text{median}\\{\\langle O_{(1)} \\rangle,\\ldots, \\langle O_{(K)} \\rangle \\}.$$\n",
    "\n",
    "Note that the shadow bound has a failure probability $\\delta$. By\n",
    "choosing the number of splits $K$ to be suitably large, we can\n",
    "exponentially suppress this failure probability. Assume now that\n",
    "$O=\\bigotimes_j^n P_j$, where $P_j \\in \\{I, X, Y, Z\\}$. To efficiently\n",
    "calculate the estimator for $O$, we look at a single snapshot outcome\n",
    "and plug in the inverse measurement channel:\n",
    "\n",
    "$$\\begin{aligned}\n",
    "\\text{Tr}\\{O\\hat{\\rho}_i\\} &= \\text{Tr}\\{\\bigotimes_{j=1}^n P_j (3U^{\\dagger}_j|\\hat{b}_j\\rangle\\langle\\hat{b}_j|U_j-\\mathbb{I})\\}\\\\\n",
    " &= \\prod_j^n \\text{Tr}\\{ 3 P_j U^{\\dagger}_j|\\hat{b}_j\\rangle\\langle\\hat{b}_j|U_j\\}.\n",
    "\\end{aligned}$$\n",
    "\n",
    "Due to the orthogonality of the Pauli operators, this evaluates to\n",
    "$\\pm 3$ if $P_j$ is the corresponding measurement basis $U_j$ and 0\n",
    "otherwise. Hence if a single $U_j$ in the snapshot does not match the\n",
    "one in $O$, the whole product evaluates to zero. As a result,\n",
    "calculating the mean estimator can be reduced to counting the number of\n",
    "exact matches in the shadow with the observable, and multiplying with\n",
    "the appropriate sign. Below, we develop the function\n",
    "`estimate_shadow_obervable` to estimate any observable given a classical\n",
    "shadow.\n"
   ]
  },
  {
   "cell_type": "code",
   "execution_count": 13,
   "metadata": {
    "collapsed": false,
    "jupyter": {
     "outputs_hidden": false
    }
   },
   "outputs": [],
   "source": [
    "def estimate_shadow_obervable(shadow, observable, k=10):\n",
    "    \"\"\"\n",
    "    Adapted from https://github.com/momohuang/predicting-quantum-properties\n",
    "    Calculate the estimator E[O] = median(Tr{rho_{(k)} O}) where rho_(k)) is set of k\n",
    "    snapshots in the shadow. Use median of means to ameliorate the effects of outliers.\n",
    "\n",
    "    Args:\n",
    "        shadow (tuple): A shadow tuple obtained from `calculate_classical_shadow`.\n",
    "        observable (qml.Observable): Single PennyLane observable consisting of single Pauli\n",
    "            operators e.g. qml.PauliX(0) @ qml.PauliY(1).\n",
    "        k (int): number of splits in the median of means estimator.\n",
    "\n",
    "    Returns:\n",
    "        Scalar corresponding to the estimate of the observable.\n",
    "    \"\"\"\n",
    "    shadow_size, num_qubits = shadow[0].shape\n",
    "\n",
    "    # convert Pennylane observables to indices\n",
    "    map_name_to_int = {\"PauliX\": 0, \"PauliY\": 1, \"PauliZ\": 2}\n",
    "    if isinstance(observable, (qml.PauliX, qml.PauliY, qml.PauliZ)):\n",
    "        target_obs, target_locs = np.array(\n",
    "            [map_name_to_int[observable.name]]\n",
    "        ), np.array([observable.wires[0]])\n",
    "    else:\n",
    "        target_obs, target_locs = np.array(\n",
    "            [map_name_to_int[o.name] for o in observable.obs]\n",
    "        ), np.array([o.wires[0] for o in observable.obs])\n",
    "\n",
    "    # classical values\n",
    "    b_lists, obs_lists = shadow\n",
    "    means = []\n",
    "\n",
    "    # loop over the splits of the shadow:\n",
    "    for i in range(0, shadow_size, shadow_size // k):\n",
    "\n",
    "        # assign the splits temporarily\n",
    "        b_lists_k, obs_lists_k = (\n",
    "            b_lists[i: i + shadow_size // k],\n",
    "            obs_lists[i: i + shadow_size // k],\n",
    "        )\n",
    "\n",
    "        # find the exact matches for the observable of interest at the specified locations\n",
    "        indices = np.all(obs_lists_k[:, target_locs] == target_obs, axis=1)\n",
    "\n",
    "        # catch the edge case where there is no match in the chunk\n",
    "        if sum(indices) > 0:\n",
    "            # take the product and sum\n",
    "            product = np.prod(b_lists_k[indices][:, target_locs], axis=1)\n",
    "            means.append(np.sum(product) / sum(indices))\n",
    "        else:\n",
    "            means.append(0)\n",
    "\n",
    "    return np.median(means)"
   ]
  },
  {
   "cell_type": "markdown",
   "metadata": {},
   "source": [
    "Next, we can define a function that calculates the number of samples\n",
    "required to get an error $\\epsilon$ on our estimator for a given set of\n",
    "observables.\n"
   ]
  },
  {
   "cell_type": "code",
   "execution_count": 14,
   "metadata": {
    "collapsed": false,
    "jupyter": {
     "outputs_hidden": false
    }
   },
   "outputs": [],
   "source": [
    "def shadow_bound(error, observables, failure_rate=0.01):\n",
    "    \"\"\"\n",
    "    Calculate the shadow bound for the Pauli measurement scheme.\n",
    "\n",
    "    Implements Eq. (S13) from https://arxiv.org/pdf/2002.08953.pdf\n",
    "\n",
    "    Args:\n",
    "        error (float): The error on the estimator.\n",
    "        observables (list) : List of matrices corresponding to the observables we intend to\n",
    "            measure.\n",
    "        failure_rate (float): Rate of failure for the bound to hold.\n",
    "\n",
    "    Returns:\n",
    "        An integer that gives the number of samples required to satisfy the shadow bound and\n",
    "        the chunk size required attaining the specified failure rate.\n",
    "    \"\"\"\n",
    "    M = len(observables)\n",
    "    K = 2 * np.log(2 * M / failure_rate)\n",
    "    shadow_norm = (\n",
    "        lambda op: np.linalg.norm(\n",
    "            op - np.trace(op) / 2 ** int(np.log2(op.shape[0])), ord=np.inf\n",
    "        )\n",
    "        ** 2\n",
    "    )\n",
    "    N = 34 * max(shadow_norm(o) for o in observables) / error ** 2\n",
    "    return int(np.ceil(N * K)), int(K)"
   ]
  },
  {
   "cell_type": "markdown",
   "metadata": {},
   "source": [
    "Example: Estimating a simple set of observables\n",
    "===============================================\n",
    "\n",
    "Here, we give an example for estimating multiple observables on a\n",
    "10-qubit circuit. We first create a simple circuit\n"
   ]
  },
  {
   "cell_type": "code",
   "execution_count": 15,
   "metadata": {
    "collapsed": false,
    "jupyter": {
     "outputs_hidden": false
    }
   },
   "outputs": [],
   "source": [
    "num_qubits = 10\n",
    "dev = qml.device(\"lightning.qubit\", wires=num_qubits, shots=1)\n",
    "\n",
    "\n",
    "def circuit_base(params, **kwargs):\n",
    "    observables = kwargs.pop(\"observable\")\n",
    "    for w in range(num_qubits):\n",
    "        qml.Hadamard(wires=w)\n",
    "        qml.RY(params[w], wires=w)\n",
    "    for w in dev.wires[:-1]:\n",
    "        qml.CNOT(wires=[w, w + 1])\n",
    "    for w in dev.wires:\n",
    "        qml.RZ(params[w + num_qubits], wires=w)\n",
    "    return [qml.expval(o) for o in observables]\n",
    "\n",
    "\n",
    "circuit = qml.QNode(circuit_base, dev)\n",
    "\n",
    "params = np.random.randn(2 * num_qubits)"
   ]
  },
  {
   "cell_type": "markdown",
   "metadata": {},
   "source": [
    "Next, we define our set of observables\n",
    "\n",
    "$$O = \\sum_{i=0}^{n-1} X_i X_{i+1} + Y_i Y_{i+1} + Z_i Z_{i+1}.$$\n"
   ]
  },
  {
   "cell_type": "code",
   "execution_count": 16,
   "metadata": {
    "collapsed": false,
    "jupyter": {
     "outputs_hidden": false
    }
   },
   "outputs": [],
   "source": [
    "list_of_observables = (\n",
    "        [qml.PauliX(i) @ qml.PauliX(i + 1) for i in range(num_qubits - 1)]\n",
    "        + [qml.PauliY(i) @ qml.PauliY(i + 1) for i in range(num_qubits - 1)]\n",
    "        + [qml.PauliZ(i) @ qml.PauliZ(i + 1) for i in range(num_qubits - 1)]\n",
    ")"
   ]
  },
  {
   "cell_type": "markdown",
   "metadata": {},
   "source": [
    "With the `shadow_bound` function, we calculate how many shadows we need\n",
    "to ensure that the absolute error of all individual terms in $O$\n",
    "satisfies\n",
    "\n",
    "$$|\\langle{O_i}\\rangle_{shadow} - \\langle{O_i}\\rangle_{exact}| \\leq \\epsilon$$\n",
    "\n",
    "for all $1\\leq i \\leq M$.\n"
   ]
  },
  {
   "cell_type": "code",
   "execution_count": 17,
   "metadata": {
    "collapsed": false,
    "jupyter": {
     "outputs_hidden": false
    }
   },
   "outputs": [
    {
     "data": {
      "text/plain": [
       "14611"
      ]
     },
     "execution_count": 17,
     "metadata": {},
     "output_type": "execute_result"
    }
   ],
   "source": [
    "shadow_size_bound, k = shadow_bound(\n",
    "    error=2e-1, observables=[qml.matrix(o) for o in list_of_observables]\n",
    ")\n",
    "shadow_size_bound"
   ]
  },
  {
   "cell_type": "markdown",
   "metadata": {},
   "source": [
    "We verify the bound by considering a grid of errors $\\epsilon_i$ and\n",
    "checking that\n",
    "$|\\langle{O_i}\\rangle_{shadow} - \\langle{O_i}\\rangle_{exact}|$ stays\n",
    "below this value for the shadow size calculated in `shadow_bound`.\n",
    "First, we get the classical shadow estimate.\n"
   ]
  },
  {
   "cell_type": "code",
   "execution_count": 18,
   "metadata": {
    "collapsed": false,
    "jupyter": {
     "outputs_hidden": false
    }
   },
   "outputs": [
    {
     "name": "stdout",
     "output_type": "stream",
     "text": [
      "585 samples required \n",
      "722 samples required \n",
      "914 samples required \n",
      "1193 samples required \n",
      "1624 samples required \n",
      "2338 samples required \n",
      "3653 samples required \n",
      "6494 samples required \n",
      "14611 samples required \n"
     ]
    }
   ],
   "source": [
    "# create a grid of errors\n",
    "epsilon_grid = [1 - 0.1 * x for x in range(9)]\n",
    "shadow_sizes = []\n",
    "estimates = []\n",
    "\n",
    "for error in epsilon_grid:\n",
    "    # get the number of samples needed so that the absolute error < epsilon.\n",
    "    shadow_size_bound, k = shadow_bound(\n",
    "        error=error, observables=[qml.matrix(o) for o in list_of_observables]\n",
    "    )\n",
    "    shadow_sizes.append(shadow_size_bound)\n",
    "    print(f\"{shadow_size_bound} samples required \")\n",
    "    # calculate a shadow of the appropriate size\n",
    "    shadow = calculate_classical_shadow(circuit, params, shadow_size_bound, num_qubits)\n",
    "\n",
    "    # estimate all the observables in O\n",
    "    estimates.append([estimate_shadow_obervable(shadow, o, k=k) for o in list_of_observables])"
   ]
  },
  {
   "cell_type": "markdown",
   "metadata": {},
   "source": [
    "Then, we calculate the ground truth by changing the device backend.\n"
   ]
  },
  {
   "cell_type": "code",
   "execution_count": 19,
   "metadata": {
    "collapsed": false,
    "jupyter": {
     "outputs_hidden": false
    }
   },
   "outputs": [],
   "source": [
    "dev_exact = qml.device(\"lightning.qubit\", wires=num_qubits)\n",
    "# change the simulator to be the exact one.\n",
    "circuit = qml.QNode(circuit_base, dev_exact)\n",
    "\n",
    "expval_exact = [\n",
    "    circuit(params, observable=[o]) for o in list_of_observables\n",
    "]"
   ]
  },
  {
   "cell_type": "markdown",
   "metadata": {},
   "source": [
    "Finally, we plot the errors\n",
    "$|\\langle{O_i}\\rangle_{shadow} - \\langle{O_i}\\rangle_{exact}|$ for all\n",
    "individual terms in $O$. We expect that these errors are always smaller\n",
    "than $\\epsilon$.\n"
   ]
  },
  {
   "cell_type": "code",
   "execution_count": 20,
   "metadata": {
    "collapsed": false,
    "jupyter": {
     "outputs_hidden": false
    }
   },
   "outputs": [
    {
     "data": {
      "text/plain": [
       "<matplotlib.collections.PathCollection at 0x7f577f9d4890>"
      ]
     },
     "execution_count": 20,
     "metadata": {},
     "output_type": "execute_result"
    },
    {
     "data": {
      "text/plain": [
       "<matplotlib.collections.PathCollection at 0x7f577d6c5b10>"
      ]
     },
     "execution_count": 20,
     "metadata": {},
     "output_type": "execute_result"
    },
    {
     "data": {
      "text/plain": [
       "<matplotlib.collections.PathCollection at 0x7f577f9d72d0>"
      ]
     },
     "execution_count": 20,
     "metadata": {},
     "output_type": "execute_result"
    },
    {
     "data": {
      "text/plain": [
       "<matplotlib.collections.PathCollection at 0x7f577d7fc850>"
      ]
     },
     "execution_count": 20,
     "metadata": {},
     "output_type": "execute_result"
    },
    {
     "data": {
      "text/plain": [
       "<matplotlib.collections.PathCollection at 0x7f577d7e57d0>"
      ]
     },
     "execution_count": 20,
     "metadata": {},
     "output_type": "execute_result"
    },
    {
     "data": {
      "text/plain": [
       "<matplotlib.collections.PathCollection at 0x7f577d7fe2d0>"
      ]
     },
     "execution_count": 20,
     "metadata": {},
     "output_type": "execute_result"
    },
    {
     "data": {
      "text/plain": [
       "<matplotlib.collections.PathCollection at 0x7f577d800390>"
      ]
     },
     "execution_count": 20,
     "metadata": {},
     "output_type": "execute_result"
    },
    {
     "data": {
      "text/plain": [
       "<matplotlib.collections.PathCollection at 0x7f577d689810>"
      ]
     },
     "execution_count": 20,
     "metadata": {},
     "output_type": "execute_result"
    },
    {
     "data": {
      "text/plain": [
       "<matplotlib.collections.PathCollection at 0x7f577d802ed0>"
      ]
     },
     "execution_count": 20,
     "metadata": {},
     "output_type": "execute_result"
    },
    {
     "data": {
      "text/plain": [
       "[<matplotlib.lines.Line2D at 0x7f577d7e53d0>]"
      ]
     },
     "execution_count": 20,
     "metadata": {},
     "output_type": "execute_result"
    },
    {
     "data": {
      "text/plain": [
       "Text(0.5, 0, '$N$ (Shadow size) ')"
      ]
     },
     "execution_count": 20,
     "metadata": {},
     "output_type": "execute_result"
    },
    {
     "data": {
      "text/plain": [
       "Text(0, 0.5, '$|\\\\langle O_i \\\\rangle_{exact} - \\\\langle O_i \\\\rangle_{shadow}|$')"
      ]
     },
     "execution_count": 20,
     "metadata": {},
     "output_type": "execute_result"
    },
    {
     "data": {
      "text/plain": [
       "<matplotlib.legend.Legend at 0x7f57ce6bb510>"
      ]
     },
     "execution_count": 20,
     "metadata": {},
     "output_type": "execute_result"
    },
    {
     "data": {
      "image/png": "[encoded data removed]",
      "text/plain": [
       "<Figure size 640x480 with 1 Axes>"
      ]
     },
     "metadata": {},
     "output_type": "display_data"
    }
   ],
   "source": [
    "for j, error in enumerate(epsilon_grid):\n",
    "    plt.scatter(\n",
    "        [shadow_sizes[j] for _ in estimates[j]],\n",
    "        [np.abs(obs - estimates[j][i]) for i, obs in enumerate(expval_exact)],\n",
    "        marker=\".\",\n",
    "    )\n",
    "plt.plot(\n",
    "    shadow_sizes,\n",
    "    [e for e in epsilon_grid],\n",
    "    linestyle=\"--\",\n",
    "    color=\"gray\",\n",
    "    label=rf\"$\\epsilon$\",\n",
    "    marker=\".\",\n",
    ")\n",
    "plt.xlabel(r\"$N$ (Shadow size) \")\n",
    "plt.ylabel(r\"$|\\langle O_i \\rangle_{exact} - \\langle O_i \\rangle_{shadow}|$\")\n",
    "plt.legend()\n",
    "plt.show()"
   ]
  },
  {
   "cell_type": "markdown",
   "metadata": {},
   "source": [
    "The points in the plot indicate the individual errors for all $O_i$ at a\n",
    "given shadow size. The dashed line represents the error threshold that\n",
    "these points must stay under to satisfy the bound. As expected, the\n",
    "bound is satisfied for all $O_i$ and the errors decrease with the size\n",
    "of the shadow.\n",
    "\n",
    "To conclude, we have shown that classical shadows can be used to\n",
    "reconstruct quantum states and estimate expectation values of\n",
    "observables. This is but the tip of the iceberg of what is possible with\n",
    "this technique. In the original work, the authors estimate fidelities,\n",
    "calculate entanglement witnesses, and even find a way to approximate the\n",
    "von Neumann entropy. These applications illustrate the potential power\n",
    "of classical shadows for the characterization of quantum systems.\n"
   ]
  },
  {
   "cell_type": "markdown",
   "metadata": {},
   "source": [
    "References\n",
    "==========\n",
    "\n",
    "About the authors\n",
    "=================\n"
   ]
  }
 ],
 "metadata": {
  "kernelspec": {
   "display_name": "Python 3 (ipykernel)",
   "language": "python",
   "name": "python3"
  },
  "language_info": {
   "codemirror_mode": {
    "name": "ipython",
    "version": 3
   },
   "file_extension": ".py",
   "mimetype": "text/x-python",
   "name": "python",
   "nbconvert_exporter": "python",
   "pygments_lexer": "ipython3",
   "version": "3.11.5"
  }
 },
 "nbformat": 4,
 "nbformat_minor": 4
}
