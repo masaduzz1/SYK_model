{
 "cells": [
  {
   "cell_type": "markdown",
   "id": "75308267-1851-4736-8c02-2d7612f6b8b4",
   "metadata": {},
   "source": [
    "# Vermersch Protocol for computing OTOC at finite temperature\n",
    "\n",
    "See appendix  C of this paper: https://arxiv.org/abs/1807.09087\n",
    "\n",
    "\n",
    "Finite temperature OTOC at inverse temperature $\\beta$\n",
    "\n",
    "$$O_S\\left[\\rho_\\beta\\right](t)=\\operatorname{Tr}\\left(\\rho_\\beta^{1 / 4} W(t) \\rho_\\beta^{1 / 4} V \\rho_\\beta^{1 / 4} W(t) \\rho_\\beta^{1 / 4} V\\right)$$\n",
    "\n",
    "\n",
    "where, $\\rho_\\beta = \\frac{\\exp(-\\beta H)}{\\mathrm{Tr}(\\exp(-\\beta H) )}$ is the density matrix.\n",
    "\n",
    "At small $\\beta$ we can approximate the OTOC \n",
    "\n",
    "$$O_S\\left[\\rho_\\beta\\right](t)=O(t)-\\frac{\\beta}{2 c^{\\prime} \\mathcal{N}_{\\mathcal{H}}} \\tilde{C}(t)$$,\n",
    "\n",
    "\n",
    "where, $c'= \\frac{1}{(N_H(N_H+1)(N_H+2))}$\n",
    "\n",
    "$$ \\widetilde{C}(t)=\\overline{\\langle W(t)\\rangle_{u, k_0}\\langle V W(t) V\\rangle_{u, k_0}\\langle H\\rangle_{u, k_0}}$$"
   ]
  },
  {
   "cell_type": "code",
   "execution_count": 1,
   "id": "87328bbb-b4bd-4020-b182-d901c9933775",
   "metadata": {},
   "outputs": [],
   "source": [
    "import numpy as np\n",
    "\n",
    "# Importing standard Qiskit libraries\n",
    "from qiskit.providers.aer import QasmSimulator\n",
    "from scipy import linalg as sLA\n",
    "from qiskit import *\n",
    "from qiskit.circuit import Gate\n",
    "from qiskit.quantum_info import Statevector\n",
    "from IPython.core.interactiveshell import InteractiveShell\n",
    "from qiskit import Aer\n",
    "from IPython.display import display, Latex\n",
    "import qiskit.quantum_info as qi\n",
    "from qiskit import QuantumCircuit, transpile\n",
    "from qiskit.circuit import Parameter\n",
    "from qiskit.visualization import plot_histogram\n",
    "import matplotlib.pyplot as plt\n",
    "import pandas as pd\n",
    "from qiskit.providers.fake_provider import FakeMelbourne\n",
    "from qiskit.quantum_info.operators import Operator\n",
    "#from azure.quantum.qiskit import AzureQuantumProvider\n",
    "from qiskit import execute\n",
    "\n",
    "from qiskit.visualization import *\n",
    "from qiskit.tools.visualization import circuit_drawer\n",
    "from qiskit.quantum_info import random_unitary\n",
    "#from bristol.ensembles import Circular\n",
    "from scipy.stats import unitary_group\n",
    "from qiskit import Aer\n",
    "from qiskit_ibm_runtime import Estimator,Sampler, Session, QiskitRuntimeService, Options\n",
    "import ast\n",
    "from qiskit.providers.fake_provider import FakeSherbrooke\n",
    "from scipy.io import mmread\n",
    "InteractiveShell.ast_node_interactivity = \"all\"\n",
    "# Loading your IBM Quantum account(s)\n",
    "#provider = IBMQ.load_account()\n",
    "import datetime\n"
   ]
  },
  {
   "cell_type": "code",
   "execution_count": 2,
   "id": "86e8e75a-272a-430a-9012-5b5232d222f5",
   "metadata": {
    "tags": []
   },
   "outputs": [],
   "source": [
    "#B=np.zeros(len(A))\n",
    "simulator = Aer.get_backend(\"aer_simulator\")\n",
    "\n",
    "\n",
    "\n",
    "def rev_qubit(x,tq):\n",
    "    y=bin(x)[2:].zfill(tq)\n",
    "    y\n",
    "    z=[]\n",
    "    for j in range(len(y)-1,-1,-1):\n",
    "        y[j]\n",
    "        z.append(y[j])\n",
    "\n",
    "    binary_number = int(''.join(z), 2)\n",
    "    return binary_number\n",
    "\n",
    "\n",
    "\n",
    "\n",
    "#simulator=FakeSherbrooke()\n",
    "def generate_unitaries(rand_run,myseed):\n",
    "    unitary_ckt_list=[]\n",
    "    unitary_depth_arr=[]\n",
    "    #scipy seeding\n",
    "    np.random.seed(seed=myseed)\n",
    "    \n",
    "    for k in range(rand_run): #rand_run\n",
    "    #    if(k%50==0):\n",
    "    #        print(i,k)\n",
    "\n",
    "        trotter_circuit1 = QuantumCircuit(Q)\n",
    "        local_op=Operator(unitary_group.rvs(2**Q))\n",
    "        trotter_circuit1.append(local_op,list(np.arange(Q)))\n",
    "        unitary_ckt_list.append(trotter_circuit1.copy())\n",
    "        \n",
    "\n",
    "        \n",
    "    return unitary_ckt_list\n",
    "\n",
    "def run_trotter_circuit_list(num_steps,rand_run,myshots,Wqubit,Vqubit,temp,Ulist):\n",
    "    print(\"num steps\", num_steps)\n",
    "    #bristol CEU generator\n",
    "    #ce=Circular()\n",
    "    \n",
    "            \n",
    "    result=[]\n",
    "    depth_arr=[]\n",
    "    \n",
    "    for i in range(num_steps+1): #num_steps\n",
    "        print(\"running\",i)\n",
    "        for k in range(rand_run): #rand_run\n",
    "            trotter_circuit1 = QuantumCircuit(Q,1)\n",
    "            trotter_circuit2 = QuantumCircuit(Q,1)\n",
    "\n",
    "            trotter_circuit1.append(Ulist[k],list(np.arange(Q)))\n",
    "            trotter_circuit2.append(Ulist[k],list(np.arange(Q)))\n",
    "            #display(trotter_circuit1.draw())\n",
    "            \n",
    "            trotter_circuit2.z(Vqubit) # V operator insertion at circuit 2\n",
    "\n",
    "            for _ in range(i):\n",
    "                trotter_circuit1.append(temp,list(np.arange(Q)))\n",
    "                trotter_circuit2.append(temp,list(np.arange(Q)))  \n",
    "            \n",
    "            #display(trotter_circuit1.draw())\n",
    "              \n",
    "            trotter_circuit1.measure(Wqubit,0)\n",
    "            trotter_circuit2.measure(Wqubit,0)\n",
    "            #display(trotter_circuit1.draw())\n",
    "            \n",
    "            transpiled1=transpile(trotter_circuit1.copy(),\\\n",
    "                                  backend=simulator,\\\n",
    "                                  optimization_level=2\\\n",
    "                                  #initial_layout=[0,1,2],\\\n",
    "                                 #coupling_map=[[0,1],[1,2],[1,0],[2,1]],\\\n",
    "                                  #basis_gates=['ecr','id','rz','sx','x']\n",
    "                                 )\n",
    "            transpiled2=transpile(trotter_circuit2.copy(),\\\n",
    "                                  backend=simulator,\\\n",
    "                                  optimization_level=2\\\n",
    "                                  #initial_layout=[0,1,2],\\\n",
    "                                 #coupling_map=[[0,1],[1,2],[1,0],[2,1]],\\\n",
    "                                  #basis_gates=['ecr','id','rz','sx','x']\\\n",
    "                                 )\n",
    "            \n",
    "            if k==-1:\n",
    "                print(transpiled1.count_ops())\n",
    "                print(transpiled1.depth())\n",
    "                depth_arr.append( transpiled1.count_ops()['ecr'])\n",
    "            \n",
    "            \n",
    "            #if i==1 and k==0:\n",
    "            #    display(transpiled1.draw())\n",
    "            #    display(transpiled2.draw())\n",
    "            \n",
    "            job = simulator.run(transpiled1.copy(),shots=myshots)\n",
    "            temp_result = job.result()\n",
    "            #Wtest=(temp_result.get_counts().get('0',0)-temp_result.get_counts().get('1',0))/myshots\n",
    "            \n",
    "            result.append(temp_result)\n",
    "            job = simulator.run(transpiled2.copy(),shots=myshots)\n",
    "            temp_result = job.result()\n",
    "            result.append(temp_result)\n",
    "            Vtest=(temp_result.get_counts().get('0',0)-temp_result.get_counts().get('1',0))/myshots\n",
    "                    \n",
    "    return result\n",
    "\n"
   ]
  },
  {
   "cell_type": "code",
   "execution_count": 3,
   "id": "2b34c42c-d214-47d2-8c3c-ac64df52b303",
   "metadata": {
    "tags": []
   },
   "outputs": [],
   "source": [
    "def calculate_infinite_temp_otoc(meas0,meas1,mmax,force_norm=1):\n",
    "    norm_factor=0\n",
    "    meas0=np.real(meas0)\n",
    "    meas1=np.real(meas1)\n",
    "    myOTOC=0.0\n",
    "    #print(\"set lengthe in calc otoc\", len(meas0))\n",
    "    for i in range(len(meas0)):\n",
    "        myOTOC = myOTOC+ meas0[i]*meas1[i]\n",
    "        norm_factor = norm_factor+ meas0[i]**2\n",
    "    if norm_factor==0:\n",
    "        print(\"**********Norm zero issue*******\")\n",
    "        norm_factor=1e-16\n",
    "    \n",
    "    OTOC_normalized=myOTOC/norm_factor\n",
    "    \n",
    "    if force_norm:\n",
    "        return OTOC_normalized\n",
    "    else:\n",
    "        return mmax*(mmax+1)*myOTOC/len(meas0)\n",
    "\n",
    "\n",
    "def calculate_ctilde(W,VWV,H,force_norm=1):\n",
    "    norm_factor=0\n",
    "    meas0=np.real(W)\n",
    "    meas1=np.real(VWV)\n",
    "    meas2=np.real(H)\n",
    "    \n",
    "    myCtilde=0.0\n",
    "    for i in range(len(meas0)):\n",
    "        myCtilde = myCtilde+ W[i]*VWV[i]*H[i]\n",
    "        norm_factor = norm_factor+ meas0[i]**2\n",
    "    if norm_factor==0:\n",
    "        print(\"**********Norm zero issue*******\")\n",
    "        norm_factor=1e-16\n",
    "    \n",
    "    Ctilde_normalized=myCtilde/norm_factor\n",
    "    \n",
    "    if force_norm:\n",
    "        return Ctilde_normalized\n",
    "    else:\n",
    "        return myCtilde/len(meas0)\n",
    "    \n",
    "    \n",
    "\n",
    "def compute_H(umatrix,H):\n",
    "    myzero=np.array(np.zeros(len(umatrix)))\n",
    "    myzero[0]=1\n",
    "    psi= umatrix @ myzero\n",
    "    return np.real( np.dot( np.conj(psi),H @ psi) )\n",
    "\n",
    "def calc_sigmaz(result,myshots):\n",
    "    return (result.get_counts().get('0',0)-result.get_counts().get('1',0))/myshots"
   ]
  },
  {
   "cell_type": "code",
   "execution_count": 4,
   "id": "012e53b8-29a0-42d9-b56c-0ca7d2dc3bbc",
   "metadata": {},
   "outputs": [],
   "source": [
    "\n",
    "def binner(data,block_length):\n",
    "    binned_data=[]\n",
    "\n",
    "    bins=len(data)//block_length\n",
    "\n",
    "    data=data[0:block_length*bins]\n",
    "    data=data.reshape(bins,block_length)\n",
    "\n",
    "    binned_data= np.mean(data, axis=1)\n",
    "\n",
    "    return binned_data\n",
    "\n",
    "def partial_average(blocked_data):\n",
    "    return (np.sum(blocked_data)-blocked_data)/(len(blocked_data)-1)\n",
    "\n",
    "\n",
    "\n",
    "def jack_error(partial_avg_data):\n",
    "    return np.std(partial_avg_data)*np.sqrt(len(partial_avg_data)-1)\n",
    "\n",
    "########################################################\n",
    "\n",
    "\n",
    "def jk_avg(x):\n",
    "    y=partial_average(x)\n",
    "    return np.mean(y),jack_error(y)\n",
    "\n",
    "\n",
    "def jk_arrays(otoc_avg):\n",
    "    jk_alltimes=[]\n",
    "    jkerr_alltimes=[]\n",
    "    for i in range(len(otoc_avg[0])):\n",
    "        x,y=jk_avg(otoc_avg[:,i])\n",
    "        jk_alltimes.append(x)\n",
    "        jkerr_alltimes.append(y)\n",
    "        \n",
    "    return jk_alltimes,jkerr_alltimes\n",
    "\n"
   ]
  },
  {
   "cell_type": "code",
   "execution_count": 5,
   "id": "cfa49378-d114-4200-b786-8408a2811015",
   "metadata": {},
   "outputs": [
    {
     "name": "stdout",
     "output_type": "stream",
     "text": [
      "2024-02-08 01:46:40.351156\n"
     ]
    }
   ],
   "source": [
    "print(datetime.datetime.now())"
   ]
  },
  {
   "cell_type": "code",
   "execution_count": 6,
   "id": "6098eae1-7de9-46d8-8680-5a5f81e9d9ef",
   "metadata": {
    "tags": [
     "parameters"
    ]
   },
   "outputs": [],
   "source": [
    "instance_id=3\n",
    "myseed=233423+instance_id\n",
    "#myseed=233423+1\n",
    "random_run=200\n",
    "delta_t=0.3\n",
    "myshots=20000\n",
    "\n",
    "N=6\n",
    "Q=N//2\n",
    "mmax=2**Q\n",
    "mybeta=0.9\n",
    "\n",
    "\n",
    "Wqubit=1\n",
    "Vqubit=0\n",
    "Jsqr=1\n",
    "\n",
    "\n",
    "\n",
    "n=10 # trotter step\n",
    "t=n*delta_t\n"
   ]
  },
  {
   "cell_type": "code",
   "execution_count": 7,
   "id": "418dbfdf-e576-45ae-ae5e-0ee6082a6ee2",
   "metadata": {
    "tags": []
   },
   "outputs": [],
   "source": [
    "\n",
    "\n",
    "\n",
    "qi_cir = QuantumCircuit.from_qasm_file('N%d_configs/QC_N%d_%d_dt%0.1f.qasm' %(N,N,instance_id,delta_t) )\n",
    "simulator = Aer.get_backend(\"aer_simulator\")\n",
    "#transpiled_qi_cir=transpile(qi_cir,backend=simulator,optimization_level=2,\n",
    "#                                  basis_gates=['ecr','id','rz','sx','x'],seed_transpiler=12341)\n",
    "\n",
    "\n",
    "\n",
    "tempckt=QuantumCircuit(Q)\n",
    "tempckt=qi_cir.copy()\n",
    "#tempckt.draw()"
   ]
  },
  {
   "cell_type": "code",
   "execution_count": 8,
   "id": "e2d159df-b284-41df-aeb7-468fad5b5ed3",
   "metadata": {
    "tags": []
   },
   "outputs": [],
   "source": [
    "syk_op_array=[]\n",
    "inH = mmread(\"N%d_configs/H_N%d_%d.mtx\" %(N,N,instance_id))\n",
    "syk_op_array=inH\n",
    "syk_op= Operator(np.array(syk_op_array))\n",
    "#array_to_latex(syk_op)"
   ]
  },
  {
   "cell_type": "markdown",
   "id": "6d6a3412-ab85-48d1-b5b9-19824c5140b5",
   "metadata": {},
   "source": [
    "# Structure of batched circuits\n",
    "\n",
    "\n",
    "Higher level--trotter step\n",
    "\n",
    "Mid level -- random unitary introduce\n",
    "\n",
    "lower level -- for each random unitary two circuits to compute $<W>$ and $<V^\\dagger W V>$ respectively"
   ]
  },
  {
   "cell_type": "code",
   "execution_count": 9,
   "id": "e8f70bad-a62a-4aa1-b34f-124126216357",
   "metadata": {
    "tags": []
   },
   "outputs": [
    {
     "name": "stdout",
     "output_type": "stream",
     "text": [
      "num steps 10\n",
      "running 0\n",
      "running 1\n",
      "running 2\n",
      "running 3\n",
      "running 4\n",
      "running 5\n",
      "running 6\n",
      "running 7\n",
      "running 8\n",
      "running 9\n",
      "running 10\n"
     ]
    }
   ],
   "source": [
    "\n",
    "\n",
    "all_result=[]\n",
    "\n",
    "my_unitary_ckt_list=generate_unitaries(random_run,myseed)\n",
    "\n",
    "all_result=run_trotter_circuit_list(n,random_run,myshots,Wqubit,Vqubit,tempckt,my_unitary_ckt_list)    "
   ]
  },
  {
   "cell_type": "markdown",
   "id": "d1cd1393-79ea-4d5d-92db-c56b3287183f",
   "metadata": {},
   "source": [
    "# OTOC from Vermersch protocol"
   ]
  },
  {
   "cell_type": "code",
   "execution_count": 10,
   "id": "17f33afe-6904-4bb4-9839-e0b780989161",
   "metadata": {
    "tags": []
   },
   "outputs": [
    {
     "data": {
      "text/plain": [
       "4400"
      ]
     },
     "execution_count": 10,
     "metadata": {},
     "output_type": "execute_result"
    }
   ],
   "source": [
    "len(all_result)\n",
    "result_arr=np.array([])\n",
    "for result in all_result:\n",
    "    #print(result)\n",
    "    x=result.get_counts() \n",
    "    result_arr=np.append(result_arr,x)\n",
    "    \n"
   ]
  },
  {
   "cell_type": "code",
   "execution_count": 11,
   "id": "1b701bb3-ba94-4a4e-aff2-b14445ba5703",
   "metadata": {},
   "outputs": [
    {
     "name": "stdout",
     "output_type": "stream",
     "text": [
      "mean 0 -0.0029706615928458725\n",
      "mean 1 -0.0029706615928458725\n",
      "mean 2 -0.0029706615928458725\n",
      "mean 3 -0.0029706615928458725\n",
      "mean 4 -0.0029706615928458725\n",
      "mean 5 -0.0029706615928458725\n",
      "mean 6 -0.0029706615928458725\n",
      "mean 7 -0.0029706615928458725\n",
      "mean 8 -0.0029706615928458725\n",
      "mean 9 -0.0029706615928458725\n",
      "mean 10 -0.0029706615928458725\n",
      "deviation from the infinite temp OTOC *****\n"
     ]
    },
    {
     "data": {
      "text/latex": [
       "$$\n",
       "\n",
       "\\begin{bmatrix}\n",
       "-0.020601016 & -0.015460949 & -0.0080171184 & -0.0006578671 & \\cdots & 0.0156206286 & 0.0191638761 & 0.0146836721  \\\\\n",
       " 0.0412507945 & 0.0441928633 & 0.043573495 & 0.0432596711 & \\cdots & 0.0330644905 & 0.0288343336 & 0.0267149765  \\\\\n",
       " 0.0577575047 & 0.0555590864 & 0.0535991288 & 0.0527880422 & \\cdots & 0.0302967876 & 0.0262577751 & 0.0207171475  \\\\\n",
       " 0.0538079455 & 0.0570832414 & 0.0607087882 & \\frac{2^{\\frac{431}{636}} \\cdot 3^{\\frac{29}{318}} \\cdot 5^{\\frac{205}{318}} \\cdot 7^{\\frac{5}{12}}}{175} & \\cdots & 0.0651844599 & 0.0649310875 & 0.064619447  \\\\\n",
       " -0.0377173516 & -0.0399308826 & -0.0407853224 & -0.0392170621 & \\cdots & -0.0264187289 & -0.02265387 & -0.018570735  \\\\\n",
       " \\end{bmatrix}\n",
       "$$"
      ],
      "text/plain": [
       "<IPython.core.display.Latex object>"
      ]
     },
     "execution_count": 11,
     "metadata": {},
     "output_type": "execute_result"
    },
    {
     "data": {
      "text/plain": [
       "[<matplotlib.lines.Line2D at 0x7fd43b0ce4d0>]"
      ]
     },
     "execution_count": 11,
     "metadata": {},
     "output_type": "execute_result"
    },
    {
     "data": {
      "text/plain": [
       "[<matplotlib.lines.Line2D at 0x7fd43b0ced90>]"
      ]
     },
     "execution_count": 11,
     "metadata": {},
     "output_type": "execute_result"
    },
    {
     "data": {
      "text/plain": [
       "[<matplotlib.lines.Line2D at 0x7fd43b0cca10>]"
      ]
     },
     "execution_count": 11,
     "metadata": {},
     "output_type": "execute_result"
    },
    {
     "data": {
      "text/plain": [
       "[<matplotlib.lines.Line2D at 0x7fd43b0e0490>]"
      ]
     },
     "execution_count": 11,
     "metadata": {},
     "output_type": "execute_result"
    },
    {
     "data": {
      "text/plain": [
       "[<matplotlib.lines.Line2D at 0x7fd43b0e1490>]"
      ]
     },
     "execution_count": 11,
     "metadata": {},
     "output_type": "execute_result"
    },
    {
     "data": {
      "text/plain": [
       "<matplotlib.legend.Legend at 0x7fd43b0cf390>"
      ]
     },
     "execution_count": 11,
     "metadata": {},
     "output_type": "execute_result"
    },
    {
     "name": "stdout",
     "output_type": "stream",
     "text": [
      "[1.0192301761128573, 1.015251371019384, 0.9961393495285573, 0.9716791165626855, 0.935922961979118, 0.88640628870271, 0.8336246047675188, 0.7773740486062903, 0.7089176553924303, 0.64822204253055, 0.5826314777492012]\n"
     ]
    },
    {
     "data": {
      "image/png": "[encoded data removed]",
      "text/plain": [
       "<Figure size 640x480 with 1 Axes>"
      ]
     },
     "metadata": {},
     "output_type": "display_data"
    }
   ],
   "source": [
    "total_set=5\n",
    "times1=delta_t*np.arange(n+1)\n",
    "OTOC=np.zeros((total_set,n+1))\n",
    "Ctilde=np.zeros((total_set,n+1))\n",
    "finite_OTOC=np.zeros((total_set,n+1))\n",
    "\n",
    "\n",
    "Wavg_val=[]\n",
    "Wstd=[]\n",
    "Vavg_val=[]\n",
    "Vstd=[]\n",
    "\n",
    "for i in range(n+1): # \n",
    "        W=np.zeros(random_run)\n",
    "        V=np.zeros(random_run)\n",
    "        myH=np.zeros(random_run)\n",
    "        \n",
    "        for j in range(random_run):\n",
    "            #index=2*i*random_run\n",
    "            index=2*i*random_run\n",
    "            \n",
    "            #print(\"index temp\",index+2*j)\n",
    "            temp_result1=all_result[index+2*j]\n",
    "            temp_result2=all_result[index+2*j+1]       \n",
    "            W[j]=calc_sigmaz(temp_result1,myshots)\n",
    "            V[j]=calc_sigmaz(temp_result2,myshots)\n",
    "            myH[j]=compute_H(np.array(Operator(my_unitary_ckt_list[j]).data),np.array(syk_op.data) )\n",
    "       \n",
    "        print(\"mean\",i,np.mean(myH))\n",
    "\n",
    "            #print(myH[j])\n",
    "        \n",
    "        mydata=np.transpose([W,V,myH])\n",
    "        df_test=pd.DataFrame(mydata)\n",
    "        #df_test.to_csv('benchmarking_localsim_ckt_data_instance_id_%d_randomrun_%d_20000shots' %(instance_id,random_run),sep='\\t',header=False,index=False,mode='w')\n",
    "        df_test.to_csv(\"WVHdata_beta/simulated_protocol%d_WVdata_tn%d_dt%0.1f_random_run%d_shots%d\"\\\n",
    "                       %(instance_id,i,delta_t,random_run,myshots),sep='\\t',header=False,index=False,mode='w')\n",
    "   \n",
    "\n",
    "        OTOC_t=[]\n",
    "        myset_length=random_run//total_set\n",
    "        \n",
    "        for k in range(total_set):\n",
    "            temp=calculate_infinite_temp_otoc(W[k*myset_length:(k+1)*myset_length],V[k*myset_length:(k+1)*myset_length],0)\n",
    "            OTOC_t.append(temp)\n",
    "        \n",
    "        OTOC[:,i]=OTOC_t\n",
    "        #print(i,OTOC[:,i])\n",
    "        \n",
    "        Ctilde_t=[]\n",
    "        \n",
    "        for k in range(total_set):\n",
    "            temp=calculate_ctilde(W[k*myset_length:(k+1)*myset_length],V[k*myset_length:(k+1)*myset_length],\\\n",
    "                                 myH[k*myset_length:(k+1)*myset_length],0)\n",
    "            Ctilde_t.append(temp)\n",
    "            #print(k,Ctilde_t)\n",
    "        \n",
    "        Ctilde[:,i]=Ctilde_t\n",
    "        #break\n",
    "\n",
    "    \n",
    "        \n",
    "        \n",
    "        \n",
    "        \n",
    "\n",
    "            \n",
    "jk_100=[]\n",
    "jkerr_100=[]\n",
    "\n",
    "    \n",
    "if total_set!=1:\n",
    "    for i in range(len(finite_OTOC)):\n",
    "        for j in range(len(finite_OTOC[0])):\n",
    "            finite_OTOC[i][j]=OTOC[i][j]- 0.5*mybeta*(mmax+1)*(mmax+2) * Ctilde[i][j]\n",
    "        \n",
    "    print(\"deviation from the infinite temp OTOC *****\")\n",
    "    array_to_latex(finite_OTOC-OTOC)\n",
    "    \n",
    "                                           \n",
    "    jk_100,jkerr_100=jk_arrays(finite_OTOC)   \n",
    "    \n",
    "    \n",
    "    for i in range(len(finite_OTOC)):\n",
    "        plt.plot(times1,finite_OTOC[i,:],ls='--',mfc='None',lw='0.1',label=r'%d'%i) \n",
    "\n",
    "else:\n",
    "    for i in range(len(finite_OTOC)):\n",
    "        for j in range(len(finite_OTOC[0])):\n",
    "            finite_OTOC[i][j]=OTOC[i][j]- 0.5*mybeta*(mmax+1)*(mmax+2) * Ctilde[i][j]\n",
    "            \n",
    "    jk_100=finite_OTOC[0,:]\n",
    "    jkerr_100=np.zeros(len(jk_100))\n",
    "    print(\"*********\",jk_100)\n",
    "\n",
    "\n",
    "plt.legend()\n",
    "#plt.plot(times2,OTOC_ED,'ok',ms='5') \n",
    "\n",
    "\n",
    "                                           \n",
    "#plt.errorbar(times1,jk_100,jkerr_100,fmt='s',c='r',capsize=5)\n",
    "\n",
    "print(jk_100)"
   ]
  },
  {
   "cell_type": "code",
   "execution_count": 12,
   "id": "d2f4c8c2-6b2f-4216-9883-a3562ed95ecb",
   "metadata": {},
   "outputs": [
    {
     "data": {
      "text/plain": [
       "3"
      ]
     },
     "execution_count": 12,
     "metadata": {},
     "output_type": "execute_result"
    },
    {
     "data": {
      "text/plain": [
       "0.9"
      ]
     },
     "execution_count": 12,
     "metadata": {},
     "output_type": "execute_result"
    },
    {
     "name": "stdout",
     "output_type": "stream",
     "text": [
      "ED_id3_beta0.9_dt0.3\n"
     ]
    },
    {
     "data": {
      "text/plain": [
       "[1.0192301761128573,\n",
       " 1.015251371019384,\n",
       " 0.9961393495285573,\n",
       " 0.9716791165626855,\n",
       " 0.935922961979118,\n",
       " 0.88640628870271,\n",
       " 0.8336246047675188,\n",
       " 0.7773740486062903,\n",
       " 0.7089176553924303,\n",
       " 0.64822204253055,\n",
       " 0.5826314777492012]"
      ]
     },
     "execution_count": 12,
     "metadata": {},
     "output_type": "execute_result"
    }
   ],
   "source": [
    "instance_id\n",
    "mybeta\n",
    "#EDval=np.array([0.05409897, 0.04838817, 0.03864442, 0.02730182, 0.01710506,\n",
    "#       0.01032511, 0.0081451 , 0.01039859, 0.01572249, 0.02205179,\n",
    "#       0.02727905]) # beta 0.4\n",
    "\n",
    "ED_filename='ED_id%d_beta%0.1f_dt%0.1f'%(instance_id,mybeta,delta_t)\n",
    "print(ED_filename)\n",
    "X=np.array(pd.read_csv(ED_filename,sep='\\s+',header=None,index_col=False))\n",
    "EDtime=X[:,0]\n",
    "EDval=X[:,1]\n",
    "jk_100\n"
   ]
  },
  {
   "cell_type": "code",
   "execution_count": 13,
   "id": "8accf9dc-7235-46b0-9de0-cb06ebfbd851",
   "metadata": {},
   "outputs": [
    {
     "data": {
      "text/plain": [
       "<ErrorbarContainer object of 3 artists>"
      ]
     },
     "execution_count": 13,
     "metadata": {},
     "output_type": "execute_result"
    },
    {
     "data": {
      "text/plain": [
       "[<matplotlib.lines.Line2D at 0x7fd43af252d0>]"
      ]
     },
     "execution_count": 13,
     "metadata": {},
     "output_type": "execute_result"
    },
    {
     "data": {
      "text/plain": [
       "Text(0.5, 0, 'time, $t$')"
      ]
     },
     "execution_count": 13,
     "metadata": {},
     "output_type": "execute_result"
    },
    {
     "data": {
      "text/plain": [
       "Text(0, 0.5, '$F_{10}(t)$')"
      ]
     },
     "execution_count": 13,
     "metadata": {},
     "output_type": "execute_result"
    },
    {
     "data": {
      "text/plain": [
       "<matplotlib.legend.Legend at 0x7fd440994310>"
      ]
     },
     "execution_count": 13,
     "metadata": {},
     "output_type": "execute_result"
    },
    {
     "data": {
      "text/plain": [
       "Text(0.5, 1.0, '$J^2$=1.0, $N_U$=200, $\\\\beta$=0.9')"
      ]
     },
     "execution_count": 13,
     "metadata": {},
     "output_type": "execute_result"
    },
    {
     "data": {
      "image/png": "[encoded data removed]",
      "text/plain": [
       "<Figure size 600x400 with 1 Axes>"
      ]
     },
     "metadata": {},
     "output_type": "display_data"
    }
   ],
   "source": [
    "plt.rc('text',usetex=True)\n",
    "fig, ax = plt.subplots(facecolor='w',figsize=(6,4))\n",
    "ax.tick_params(axis='both', which='major', labelsize=20)\n",
    "ax.minorticks_on()\n",
    "\n",
    "plt.errorbar(np.array(times1),np.array(jk_100),jkerr_100,marker='o',c='k',ls='--',label='global-protocol') \n",
    "plt.plot(EDtime,EDval,label=r'ED')\n",
    "plt.xlabel(r'time, $t$',fontsize=20)\n",
    "plt.ylabel(r'$F_{%d%d}(t)$'%(Wqubit,Vqubit),fontsize=20)\n",
    "plt.legend(loc='best',fontsize=15,frameon=False)\n",
    "plt.title(r'$J^2$=%0.1f, $N_U$=%d, $\\beta$=%0.1f'%(Jsqr, random_run,mybeta))\n",
    "plt.savefig(r'beta%0.1f_simulated_protocol_%d_dt%0.1f_random_run%d_shots%d.png' %(mybeta,instance_id,delta_t,random_run,myshots),bbox_inches='tight')"
   ]
  },
  {
   "cell_type": "code",
   "execution_count": 14,
   "id": "4fd73724-1bcb-4708-8f8f-2359fb4f5285",
   "metadata": {},
   "outputs": [],
   "source": [
    "sim_prot_val=np.array(jk_100)\n",
    "mydata=np.transpose([times1,sim_prot_val,jkerr_100])\n",
    "df_test=pd.DataFrame(mydata)\n",
    "df_test.to_csv('ckt_beta%0.1f_instance_id_%d_randomrun_%d_20000shots' %(mybeta,instance_id,random_run),sep='\\t',header=False,index=False,mode='w')\n"
   ]
  },
  {
   "cell_type": "code",
   "execution_count": 15,
   "id": "11e3662d-b9f0-4cb2-9729-cfb5547842ff",
   "metadata": {},
   "outputs": [
    {
     "name": "stdout",
     "output_type": "stream",
     "text": [
      "2024-02-08 01:54:13.730963\n"
     ]
    }
   ],
   "source": [
    "print(datetime.datetime.now())"
   ]
  },
  {
   "cell_type": "code",
   "execution_count": 16,
   "id": "33c4cdb4-9023-4aba-822b-a7cf5cdfd0f8",
   "metadata": {},
   "outputs": [],
   "source": [
    "all_instance_plot=0\n",
    "if all_instance_plot:\n",
    "    instance_id_array=np.arange(1,11)\n",
    "\n",
    "    otoc_arr=[]\n",
    "    otocerr_arr=[]\n",
    "\n",
    "    for instance_id in instance_id_array:\n",
    "        filename='ckt_instance_data_N8_1/ckt_data_instance_id_%d'%instance_id\n",
    "        Xtemp=np.array(pd.read_csv(filename,sep='\\t',header=None,index_col=None)   ) \n",
    "        time=Xtemp[:,0]\n",
    "        #print(Xtemp[:,0])\n",
    "        #print(Xtemp[:,1])\n",
    "        \n",
    "        \n",
    "        otoc_arr.append(Xtemp[:,1])\n",
    "        otocerr_arr.append(Xtemp[:,2])\n",
    "        plt.errorbar(time,Xtemp[:,1],Xtemp[:,2],label=r'%d'%instance_id)\n",
    "\n",
    "    otoc_arr2=np.array(otoc_arr)\n",
    "    otoc_avg=np.mean(otoc_arr2,0)\n",
    "    \n",
    "    otocerr_arr2=np.array(otocerr_arr)\n",
    "    otocerr_avg=np.mean(otocerr_arr2,0)\n",
    "    \n",
    "    plt.errorbar(time,otoc_avg,otocerr_avg,marker='x',c='r',ms=20)\n",
    "    #plt.savefig(r'ckt_instance_data_N8_1/all_instance%d.png' %len(instance_id_array),bbox_inches='tight')\n",
    "    plt.legend(loc='best',fontsize=15,frameon=False)\n",
    "    \n",
    "    plt.rc('text',usetex=True)\n",
    "    fig, ax = plt.subplots(facecolor='w',figsize=(6,4))\n",
    "    ax.tick_params(axis='both', which='major', labelsize=20)\n",
    "    ax.minorticks_on()\n",
    "    plt.errorbar(time,otoc_avg,otocerr_avg,marker='v',c='k',ms=5,capsize=5)\n",
    "    plt.xlabel(r'time, $t$',fontsize=20)\n",
    "    plt.ylabel(r'$F_{%d%d}(t)$'%(Wqubit,Vqubit),fontsize=20)\n",
    "    plt.legend(loc='best',fontsize=15,frameon=False)\n",
    "    plt.title(r'$J^2$=%0.1f, $N_U$=%d'%(Jsqr, random_run))\n",
    "    #plt.savefig(r'ckt_instance_data_N8_1/total_instance%d.png' %len(instance_id_array),bbox_inches='tight')\n"
   ]
  }
 ],
 "metadata": {
  "kernelspec": {
   "display_name": "Python 3 (ipykernel)",
   "language": "python",
   "name": "python3"
  },
  "language_info": {
   "codemirror_mode": {
    "name": "ipython",
    "version": 3
   },
   "file_extension": ".py",
   "mimetype": "text/x-python",
   "name": "python",
   "nbconvert_exporter": "python",
   "pygments_lexer": "ipython3",
   "version": "3.11.5"
  },
  "widgets": {
   "application/vnd.jupyter.widget-state+json": {
    "state": {},
    "version_major": 2,
    "version_minor": 0
   }
  }
 },
 "nbformat": 4,
 "nbformat_minor": 5
}
